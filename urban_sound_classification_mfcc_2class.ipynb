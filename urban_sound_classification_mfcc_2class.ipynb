{
 "cells": [
  {
   "cell_type": "markdown",
   "id": "operational-going",
   "metadata": {},
   "source": [
    "# Urban Sound Classification using MFCC\n",
    "## 2 Class Classification\n",
    "Dataset: UrbanSound8K"
   ]
  },
  {
   "cell_type": "markdown",
   "id": "prerequisite-carter",
   "metadata": {},
   "source": [
    "### Create MFCC Dataset"
   ]
  },
  {
   "cell_type": "code",
   "execution_count": 1,
   "id": "sublime-production",
   "metadata": {},
   "outputs": [
    {
     "name": "stderr",
     "output_type": "stream",
     "text": [
      "WARNING: pip is being invoked by an old script wrapper. This will fail in a future version of pip.\n",
      "Please see https://github.com/pypa/pip/issues/5599 for advice on fixing the underlying issue.\n",
      "To avoid this problem you can invoke Python with '-m pip' instead of running pip directly.\n"
     ]
    },
    {
     "name": "stdout",
     "output_type": "stream",
     "text": [
      "Requirement already satisfied: progressbar in /usr/local/lib/python3.6/dist-packages (2.5)\n"
     ]
    },
    {
     "name": "stderr",
     "output_type": "stream",
     "text": [
      "WARNING: Running pip as the 'root' user can result in broken permissions and conflicting behaviour with the system package manager. It is recommended to use a virtual environment instead: https://pip.pypa.io/warnings/venv\n"
     ]
    },
    {
     "data": {
      "text/plain": [
       "0"
      ]
     },
     "execution_count": 1,
     "metadata": {},
     "output_type": "execute_result"
    }
   ],
   "source": [
    "from pip._internal import main\n",
    "main([\"install\", \"progressbar\"])"
   ]
  },
  {
   "cell_type": "markdown",
   "id": "golden-billion",
   "metadata": {},
   "source": [
    "### Import Libraries"
   ]
  },
  {
   "cell_type": "code",
   "execution_count": 2,
   "id": "pediatric-vinyl",
   "metadata": {},
   "outputs": [],
   "source": [
    "import progressbar\n",
    "import time\n",
    "import os\n",
    "import struct\n",
    "import matplotlib.pyplot as plt\n",
    "import IPython.display as ipd\n",
    "import pandas as pd\n",
    "import numpy as np\n",
    "import librosa\n",
    "import DataCollection as dc # a local module"
   ]
  },
  {
   "cell_type": "markdown",
   "id": "respected-kruger",
   "metadata": {},
   "source": [
    "### Metadata Retrievement"
   ]
  },
  {
   "cell_type": "code",
   "execution_count": 3,
   "id": "recovered-physics",
   "metadata": {},
   "outputs": [
    {
     "data": {
      "text/html": [
       "<div>\n",
       "<style scoped>\n",
       "    .dataframe tbody tr th:only-of-type {\n",
       "        vertical-align: middle;\n",
       "    }\n",
       "\n",
       "    .dataframe tbody tr th {\n",
       "        vertical-align: top;\n",
       "    }\n",
       "\n",
       "    .dataframe thead th {\n",
       "        text-align: right;\n",
       "    }\n",
       "</style>\n",
       "<table border=\"1\" class=\"dataframe\">\n",
       "  <thead>\n",
       "    <tr style=\"text-align: right;\">\n",
       "      <th></th>\n",
       "      <th>slice_file_name</th>\n",
       "      <th>fsID</th>\n",
       "      <th>start</th>\n",
       "      <th>end</th>\n",
       "      <th>salience</th>\n",
       "      <th>fold</th>\n",
       "      <th>classID</th>\n",
       "      <th>class</th>\n",
       "    </tr>\n",
       "  </thead>\n",
       "  <tbody>\n",
       "    <tr>\n",
       "      <th>0</th>\n",
       "      <td>100032-3-0-0.wav</td>\n",
       "      <td>100032</td>\n",
       "      <td>0.0</td>\n",
       "      <td>0.317551</td>\n",
       "      <td>1</td>\n",
       "      <td>5</td>\n",
       "      <td>3</td>\n",
       "      <td>dog_bark</td>\n",
       "    </tr>\n",
       "    <tr>\n",
       "      <th>1</th>\n",
       "      <td>100263-2-0-117.wav</td>\n",
       "      <td>100263</td>\n",
       "      <td>58.5</td>\n",
       "      <td>62.500000</td>\n",
       "      <td>1</td>\n",
       "      <td>5</td>\n",
       "      <td>2</td>\n",
       "      <td>children_playing</td>\n",
       "    </tr>\n",
       "    <tr>\n",
       "      <th>2</th>\n",
       "      <td>100263-2-0-121.wav</td>\n",
       "      <td>100263</td>\n",
       "      <td>60.5</td>\n",
       "      <td>64.500000</td>\n",
       "      <td>1</td>\n",
       "      <td>5</td>\n",
       "      <td>2</td>\n",
       "      <td>children_playing</td>\n",
       "    </tr>\n",
       "    <tr>\n",
       "      <th>3</th>\n",
       "      <td>100263-2-0-126.wav</td>\n",
       "      <td>100263</td>\n",
       "      <td>63.0</td>\n",
       "      <td>67.000000</td>\n",
       "      <td>1</td>\n",
       "      <td>5</td>\n",
       "      <td>2</td>\n",
       "      <td>children_playing</td>\n",
       "    </tr>\n",
       "    <tr>\n",
       "      <th>4</th>\n",
       "      <td>100263-2-0-137.wav</td>\n",
       "      <td>100263</td>\n",
       "      <td>68.5</td>\n",
       "      <td>72.500000</td>\n",
       "      <td>1</td>\n",
       "      <td>5</td>\n",
       "      <td>2</td>\n",
       "      <td>children_playing</td>\n",
       "    </tr>\n",
       "  </tbody>\n",
       "</table>\n",
       "</div>"
      ],
      "text/plain": [
       "      slice_file_name    fsID  start        end  salience  fold  classID  \\\n",
       "0    100032-3-0-0.wav  100032    0.0   0.317551         1     5        3   \n",
       "1  100263-2-0-117.wav  100263   58.5  62.500000         1     5        2   \n",
       "2  100263-2-0-121.wav  100263   60.5  64.500000         1     5        2   \n",
       "3  100263-2-0-126.wav  100263   63.0  67.000000         1     5        2   \n",
       "4  100263-2-0-137.wav  100263   68.5  72.500000         1     5        2   \n",
       "\n",
       "              class  \n",
       "0          dog_bark  \n",
       "1  children_playing  \n",
       "2  children_playing  \n",
       "3  children_playing  \n",
       "4  children_playing  "
      ]
     },
     "execution_count": 3,
     "metadata": {},
     "output_type": "execute_result"
    }
   ],
   "source": [
    "data = pd.read_csv(\"UrbanSound8K/metadata/UrbanSound8K.csv\")\n",
    "data.head()"
   ]
  },
  {
   "cell_type": "code",
   "execution_count": 4,
   "id": "geological-determination",
   "metadata": {},
   "outputs": [
    {
     "data": {
      "text/plain": [
       "(752, 2)"
      ]
     },
     "execution_count": 4,
     "metadata": {},
     "output_type": "execute_result"
    }
   ],
   "source": [
    "dataset = np.zeros(shape=(752,2), dtype=object) # 5:5\n",
    "dataset.shape"
   ]
  },
  {
   "cell_type": "markdown",
   "id": "injured-basic",
   "metadata": {},
   "source": [
    "### Feature Extraction"
   ]
  },
  {
   "cell_type": "code",
   "execution_count": 5,
   "id": "eleven-courtesy",
   "metadata": {},
   "outputs": [
    {
     "name": "stderr",
     "output_type": "stream",
     "text": [
      "||                                                                      ||   0%\r"
     ]
    },
    {
     "name": "stdout",
     "output_type": "stream",
     "text": [
      "air_conditioner:  42\n"
     ]
    },
    {
     "name": "stderr",
     "output_type": "stream",
     "text": [
      "||*                                                                     ||   2%\r"
     ]
    },
    {
     "name": "stdout",
     "output_type": "stream",
     "text": [
      "engine_idling:  42\n"
     ]
    },
    {
     "name": "stderr",
     "output_type": "stream",
     "text": [
      "||**                                                                    ||   3%\r"
     ]
    },
    {
     "name": "stdout",
     "output_type": "stream",
     "text": [
      "drilling:  42\n",
      "jackhammer:  42\n"
     ]
    },
    {
     "name": "stderr",
     "output_type": "stream",
     "text": [
      "||***                                                                   ||   4%\r"
     ]
    },
    {
     "name": "stdout",
     "output_type": "stream",
     "text": [
      "siren:  42\n"
     ]
    },
    {
     "name": "stderr",
     "output_type": "stream",
     "text": [
      "||****                                                                  ||   6%\r"
     ]
    },
    {
     "name": "stdout",
     "output_type": "stream",
     "text": [
      "dog_bark:  42\n",
      "children_playing:  42\n",
      "street_music:  42\n"
     ]
    },
    {
     "name": "stderr",
     "output_type": "stream",
     "text": [
      "||**************                                                        ||  20%\r"
     ]
    },
    {
     "name": "stdout",
     "output_type": "stream",
     "text": [
      "car_horn:  42\n"
     ]
    },
    {
     "name": "stderr",
     "output_type": "stream",
     "text": [
      "||*******************************************************************   ||  96%\r"
     ]
    },
    {
     "name": "stdout",
     "output_type": "stream",
     "text": [
      "gun_shot:  374\n"
     ]
    },
    {
     "name": "stderr",
     "output_type": "stream",
     "text": [
      "||**********************************************************************|| 100%\n"
     ]
    }
   ],
   "source": [
    "bar = progressbar.ProgressBar(maxval=data.shape[0], widgets=[progressbar.Bar('*', '||', '||'), ' ', progressbar.Percentage()])\n",
    "bar.start()\n",
    "\n",
    "j = 0\n",
    "\n",
    "cnt_air_conditioner = 0\n",
    "cnt_car_horn = 0\n",
    "cnt_children_playing = 0\n",
    "cnt_dog_bark = 0\n",
    "cnt_drilling = 0\n",
    "cnt_engine_idling = 0\n",
    "cnt_jackhammer = 0\n",
    "cnt_siren = 0\n",
    "cnt_street_music = 0\n",
    "\n",
    "cnt_gun_shot = 0\n",
    "\n",
    "for i in range(data.shape[0]):\n",
    "    fullpath, class_id = dc.path_class(data,data.slice_file_name[i])\n",
    "    if class_id != 'gun_shot':\n",
    "        if class_id == 'air_conditioner':\n",
    "            cnt_air_conditioner += 1\n",
    "            if cnt_air_conditioner > 42:\n",
    "                continue\n",
    "            if cnt_air_conditioner >= 42:\n",
    "                print('air_conditioner: ', cnt_air_conditioner)\n",
    "            \n",
    "        elif class_id == 'car_horn':\n",
    "            cnt_car_horn += 1\n",
    "            if cnt_car_horn > 42:\n",
    "                continue\n",
    "            if cnt_car_horn >= 42:\n",
    "                print('car_horn: ', cnt_car_horn)\n",
    "        \n",
    "        elif class_id == 'children_playing':\n",
    "            cnt_children_playing += 1\n",
    "            if cnt_children_playing > 42:\n",
    "                continue\n",
    "            if cnt_children_playing >= 42:\n",
    "                print('children_playing: ', cnt_children_playing)\n",
    "        \n",
    "        elif class_id == 'dog_bark':\n",
    "            cnt_dog_bark += 1\n",
    "            if cnt_dog_bark > 42:\n",
    "                continue\n",
    "            if cnt_dog_bark >= 42:\n",
    "                print('dog_bark: ', cnt_dog_bark)\n",
    "        \n",
    "        elif class_id == 'drilling':\n",
    "            cnt_drilling += 1\n",
    "            if cnt_drilling > 42:\n",
    "                continue\n",
    "            if cnt_drilling >= 42:\n",
    "                print('drilling: ', cnt_drilling)\n",
    "        \n",
    "        elif class_id == 'engine_idling':\n",
    "            cnt_engine_idling += 1\n",
    "            if cnt_engine_idling > 42:\n",
    "                continue\n",
    "            if cnt_engine_idling >= 42:\n",
    "                print('engine_idling: ', cnt_engine_idling)\n",
    "        \n",
    "        elif class_id == 'jackhammer':\n",
    "            cnt_jackhammer += 1\n",
    "            if cnt_jackhammer > 42:\n",
    "                continue\n",
    "            if cnt_jackhammer >= 42:\n",
    "                print('jackhammer: ', cnt_jackhammer)\n",
    "        \n",
    "        elif class_id == 'siren':\n",
    "            cnt_siren += 1\n",
    "            if cnt_siren > 42:\n",
    "                continue\n",
    "            if cnt_siren >= 42:\n",
    "                print('siren: ', cnt_siren)\n",
    "        \n",
    "        elif class_id == 'street_music':\n",
    "            cnt_street_music += 1\n",
    "            if cnt_street_music > 42:\n",
    "                continue\n",
    "            if cnt_street_music >= 42:\n",
    "                print('street_music: ', cnt_street_music)\n",
    "        class_id = 'unknown'\n",
    "    if class_id == 'gun_shot':\n",
    "        cnt_gun_shot += 1\n",
    "        if cnt_gun_shot >= 374:\n",
    "            print('gun_shot: ', cnt_gun_shot)\n",
    "        \n",
    "    try:\n",
    "        X, sample_rate = librosa.load(fullpath, res_type='kaiser_fast')\n",
    "        mfcc = np.mean(librosa.feature.mfcc(y=X, sr=sample_rate, n_mfcc=40).T,axis=0)\n",
    "    except Exception:\n",
    "        print(\"Error encountered while parsing file: \", file)\n",
    "        mfcc,class_id = None, None\n",
    "    feature = mfcc\n",
    "    label = class_id\n",
    "    dataset[j,0],dataset[j,1] = feature,label\n",
    "    j += 1\n",
    "    bar.update(i+1)\n",
    "    \n",
    "bar.finish()"
   ]
  },
  {
   "cell_type": "code",
   "execution_count": 6,
   "id": "demanding-graphics",
   "metadata": {},
   "outputs": [],
   "source": [
    "np.save(\"dataset_mfcc_2class\", dataset, allow_pickle=True)"
   ]
  },
  {
   "cell_type": "code",
   "execution_count": 7,
   "id": "adopted-storage",
   "metadata": {},
   "outputs": [],
   "source": [
    "l = np.load(\"dataset_mfcc_2class.npy\", allow_pickle=True)"
   ]
  },
  {
   "cell_type": "code",
   "execution_count": 8,
   "id": "monetary-bargain",
   "metadata": {},
   "outputs": [
    {
     "data": {
      "text/plain": [
       "'gun_shot'"
      ]
     },
     "execution_count": 8,
     "metadata": {},
     "output_type": "execute_result"
    }
   ],
   "source": [
    "l[751,1]"
   ]
  },
  {
   "cell_type": "markdown",
   "id": "transparent-stretch",
   "metadata": {},
   "source": [
    "----\n",
    "### Data Preprocessing"
   ]
  },
  {
   "cell_type": "code",
   "execution_count": 9,
   "id": "biblical-disco",
   "metadata": {},
   "outputs": [
    {
     "name": "stderr",
     "output_type": "stream",
     "text": [
      "Using TensorFlow backend.\n",
      "WARNING: Deprecation warnings have been disabled. Set TF_ENABLE_DEPRECATION_WARNINGS=1 to re-enable them.\n"
     ]
    }
   ],
   "source": [
    "data = pd.DataFrame(np.load(\"dataset_mfcc_2class.npy\",allow_pickle= True))\n",
    "data.columns = ['feature', 'label']\n",
    "\n",
    "from sklearn.preprocessing import LabelEncoder\n",
    "\n",
    "X = np.array(data.feature.tolist())\n",
    "y = np.array(data.label.tolist())\n",
    "from sklearn.model_selection import train_test_split\n",
    "X,val_x,y,val_y = train_test_split(X,y)\n",
    "lb = LabelEncoder()\n",
    "\n",
    "from keras.utils import np_utils\n",
    "\n",
    "y = np_utils.to_categorical(lb.fit_transform(y))\n",
    "val_y = np_utils.to_categorical(lb.fit_transform(val_y))"
   ]
  },
  {
   "cell_type": "markdown",
   "id": "significant-trigger",
   "metadata": {},
   "source": [
    "### Model Structure"
   ]
  },
  {
   "cell_type": "code",
   "execution_count": 10,
   "id": "blank-prefix",
   "metadata": {},
   "outputs": [],
   "source": [
    "from keras.models import Sequential\n",
    "from keras.layers import Dense, Dropout, Activation, Flatten\n",
    "from keras.layers import Convolution2D, MaxPooling2D\n",
    "from keras.optimizers import Adam\n",
    "from keras.utils import np_utils\n",
    "from sklearn import metrics \n",
    "\n",
    "num_labels = y.shape[1]\n",
    "\n",
    "# build model\n",
    "model = Sequential()\n",
    "\n",
    "model.add(Dense(512, input_shape=(40,)))\n",
    "model.add(Activation('relu'))\n",
    "model.add(Dropout(0.5))\n",
    "\n",
    "model.add(Dense(256))\n",
    "model.add(Activation('relu'))\n",
    "model.add(Dropout(0.5))\n",
    "\n",
    "model.add(Dense(num_labels))\n",
    "model.add(Activation('softmax'))\n",
    "\n",
    "model.compile(loss='categorical_crossentropy', metrics=['accuracy'], optimizer='adam')"
   ]
  },
  {
   "cell_type": "code",
   "execution_count": 11,
   "id": "developmental-plastic",
   "metadata": {},
   "outputs": [
    {
     "name": "stdout",
     "output_type": "stream",
     "text": [
      "Model: \"sequential_1\"\n",
      "_________________________________________________________________\n",
      "Layer (type)                 Output Shape              Param #   \n",
      "=================================================================\n",
      "dense_1 (Dense)              (None, 512)               20992     \n",
      "_________________________________________________________________\n",
      "activation_1 (Activation)    (None, 512)               0         \n",
      "_________________________________________________________________\n",
      "dropout_1 (Dropout)          (None, 512)               0         \n",
      "_________________________________________________________________\n",
      "dense_2 (Dense)              (None, 256)               131328    \n",
      "_________________________________________________________________\n",
      "activation_2 (Activation)    (None, 256)               0         \n",
      "_________________________________________________________________\n",
      "dropout_2 (Dropout)          (None, 256)               0         \n",
      "_________________________________________________________________\n",
      "dense_3 (Dense)              (None, 2)                 514       \n",
      "_________________________________________________________________\n",
      "activation_3 (Activation)    (None, 2)                 0         \n",
      "=================================================================\n",
      "Total params: 152,834\n",
      "Trainable params: 152,834\n",
      "Non-trainable params: 0\n",
      "_________________________________________________________________\n"
     ]
    }
   ],
   "source": [
    "model.summary()"
   ]
  },
  {
   "cell_type": "markdown",
   "id": "unlimited-validation",
   "metadata": {},
   "source": [
    "### Train Model"
   ]
  },
  {
   "cell_type": "code",
   "execution_count": 12,
   "id": "acquired-summer",
   "metadata": {},
   "outputs": [
    {
     "name": "stderr",
     "output_type": "stream",
     "text": [
      "WARNING: From /usr/local/lib/python3.6/dist-packages/keras/backend/tensorflow_backend.py:422: The name tf.global_variables is deprecated. Please use tf.compat.v1.global_variables instead.\n",
      "\n"
     ]
    },
    {
     "name": "stdout",
     "output_type": "stream",
     "text": [
      "Train on 564 samples, validate on 188 samples\n",
      "Epoch 1/32\n",
      "564/564 [==============================] - 12s 22ms/step - loss: 13.5718 - accuracy: 0.5337 - val_loss: 3.2766 - val_accuracy: 0.7447\n",
      "Epoch 2/32\n",
      "564/564 [==============================] - 0s 563us/step - loss: 7.8396 - accuracy: 0.6631 - val_loss: 2.0010 - val_accuracy: 0.7660\n",
      "Epoch 3/32\n",
      "564/564 [==============================] - 0s 509us/step - loss: 5.6495 - accuracy: 0.6755 - val_loss: 1.7729 - val_accuracy: 0.7766\n",
      "Epoch 4/32\n",
      "564/564 [==============================] - 0s 413us/step - loss: 3.9062 - accuracy: 0.7287 - val_loss: 1.0155 - val_accuracy: 0.8032\n",
      "Epoch 5/32\n",
      "564/564 [==============================] - 0s 363us/step - loss: 3.4060 - accuracy: 0.7181 - val_loss: 0.9901 - val_accuracy: 0.7660\n",
      "Epoch 6/32\n",
      "564/564 [==============================] - 0s 351us/step - loss: 3.2941 - accuracy: 0.7181 - val_loss: 0.5107 - val_accuracy: 0.8670\n",
      "Epoch 7/32\n",
      "564/564 [==============================] - 0s 360us/step - loss: 2.0652 - accuracy: 0.7535 - val_loss: 0.4620 - val_accuracy: 0.8351\n",
      "Epoch 8/32\n",
      "564/564 [==============================] - 0s 357us/step - loss: 1.5341 - accuracy: 0.7660 - val_loss: 0.4054 - val_accuracy: 0.7660\n",
      "Epoch 9/32\n",
      "564/564 [==============================] - 0s 366us/step - loss: 1.3532 - accuracy: 0.7411 - val_loss: 0.4513 - val_accuracy: 0.7979\n",
      "Epoch 10/32\n",
      "564/564 [==============================] - 0s 364us/step - loss: 1.0199 - accuracy: 0.7748 - val_loss: 0.4163 - val_accuracy: 0.8351\n",
      "Epoch 11/32\n",
      "564/564 [==============================] - 0s 365us/step - loss: 0.9858 - accuracy: 0.7465 - val_loss: 0.5155 - val_accuracy: 0.6702\n",
      "Epoch 12/32\n",
      "564/564 [==============================] - 0s 362us/step - loss: 1.0046 - accuracy: 0.7429 - val_loss: 0.4347 - val_accuracy: 0.7979\n",
      "Epoch 13/32\n",
      "564/564 [==============================] - 0s 360us/step - loss: 0.8051 - accuracy: 0.7535 - val_loss: 0.4341 - val_accuracy: 0.8298\n",
      "Epoch 14/32\n",
      "564/564 [==============================] - 0s 360us/step - loss: 0.7969 - accuracy: 0.7465 - val_loss: 0.4467 - val_accuracy: 0.7713\n",
      "Epoch 15/32\n",
      "564/564 [==============================] - 0s 373us/step - loss: 0.7405 - accuracy: 0.7553 - val_loss: 0.4443 - val_accuracy: 0.8511\n",
      "Epoch 16/32\n",
      "564/564 [==============================] - 0s 356us/step - loss: 0.5804 - accuracy: 0.7660 - val_loss: 0.4646 - val_accuracy: 0.7872\n",
      "Epoch 17/32\n",
      "564/564 [==============================] - 0s 360us/step - loss: 0.6263 - accuracy: 0.7677 - val_loss: 0.4448 - val_accuracy: 0.8245\n",
      "Epoch 18/32\n",
      "564/564 [==============================] - 0s 360us/step - loss: 0.5780 - accuracy: 0.7624 - val_loss: 0.4401 - val_accuracy: 0.8564\n",
      "Epoch 19/32\n",
      "564/564 [==============================] - 0s 376us/step - loss: 0.5841 - accuracy: 0.7500 - val_loss: 0.4412 - val_accuracy: 0.8511\n",
      "Epoch 20/32\n",
      "564/564 [==============================] - 0s 381us/step - loss: 0.5222 - accuracy: 0.7801 - val_loss: 0.4544 - val_accuracy: 0.8245\n",
      "Epoch 21/32\n",
      "564/564 [==============================] - 0s 361us/step - loss: 0.5031 - accuracy: 0.7624 - val_loss: 0.4599 - val_accuracy: 0.8032\n",
      "Epoch 22/32\n",
      "564/564 [==============================] - 0s 361us/step - loss: 0.5086 - accuracy: 0.8245 - val_loss: 0.4360 - val_accuracy: 0.8351\n",
      "Epoch 23/32\n",
      "564/564 [==============================] - 0s 354us/step - loss: 0.4423 - accuracy: 0.8227 - val_loss: 0.4244 - val_accuracy: 0.8404\n",
      "Epoch 24/32\n",
      "564/564 [==============================] - 0s 364us/step - loss: 0.4855 - accuracy: 0.8014 - val_loss: 0.4293 - val_accuracy: 0.8138\n",
      "Epoch 25/32\n",
      "564/564 [==============================] - 0s 360us/step - loss: 0.4678 - accuracy: 0.7996 - val_loss: 0.4261 - val_accuracy: 0.8191\n",
      "Epoch 26/32\n",
      "564/564 [==============================] - 0s 359us/step - loss: 0.4515 - accuracy: 0.7943 - val_loss: 0.4137 - val_accuracy: 0.8245\n",
      "Epoch 27/32\n",
      "564/564 [==============================] - 0s 363us/step - loss: 0.4815 - accuracy: 0.7784 - val_loss: 0.4176 - val_accuracy: 0.8617\n",
      "Epoch 28/32\n",
      "564/564 [==============================] - 0s 364us/step - loss: 0.4085 - accuracy: 0.8316 - val_loss: 0.4134 - val_accuracy: 0.8723\n",
      "Epoch 29/32\n",
      "564/564 [==============================] - 0s 361us/step - loss: 0.4426 - accuracy: 0.8209 - val_loss: 0.4154 - val_accuracy: 0.8298\n",
      "Epoch 30/32\n",
      "564/564 [==============================] - 0s 364us/step - loss: 0.4009 - accuracy: 0.8156 - val_loss: 0.4129 - val_accuracy: 0.7926\n",
      "Epoch 31/32\n",
      "564/564 [==============================] - 0s 356us/step - loss: 0.4459 - accuracy: 0.8103 - val_loss: 0.3855 - val_accuracy: 0.8564\n",
      "Epoch 32/32\n",
      "564/564 [==============================] - 0s 362us/step - loss: 0.4226 - accuracy: 0.8191 - val_loss: 0.3745 - val_accuracy: 0.8351\n"
     ]
    },
    {
     "data": {
      "text/plain": [
       "<keras.callbacks.callbacks.History at 0x7f1c7522b0>"
      ]
     },
     "execution_count": 12,
     "metadata": {},
     "output_type": "execute_result"
    }
   ],
   "source": [
    "model.fit(X, y, batch_size=64, epochs=32, validation_data=(val_x, val_y))"
   ]
  },
  {
   "cell_type": "markdown",
   "id": "thrown-steam",
   "metadata": {},
   "source": [
    "----\n",
    "### Save & Load Model"
   ]
  },
  {
   "cell_type": "code",
   "execution_count": 13,
   "id": "modified-practice",
   "metadata": {},
   "outputs": [],
   "source": [
    "model.save(\"mfcc_2class.h5\")"
   ]
  },
  {
   "cell_type": "code",
   "execution_count": 14,
   "id": "naval-asset",
   "metadata": {},
   "outputs": [],
   "source": [
    "from keras.models import load_model\n",
    "model = load_model(\"mfcc_2class.h5\")"
   ]
  },
  {
   "cell_type": "markdown",
   "id": "arbitrary-latex",
   "metadata": {},
   "source": [
    "----\n",
    "### Model Test"
   ]
  },
  {
   "cell_type": "code",
   "execution_count": 15,
   "id": "gothic-former",
   "metadata": {},
   "outputs": [
    {
     "name": "stdout",
     "output_type": "stream",
     "text": [
      "gun_shot = [0] & unknown = [1]\n",
      "\n",
      "label: unknown | prediction: [1]\n",
      "label: unknown | prediction: [0]\n",
      "label: unknown | prediction: [0]\n",
      "label: unknown | prediction: [0]\n",
      "label: unknown | prediction: [0]\n",
      "label: unknown | prediction: [0]\n",
      "label: unknown | prediction: [0]\n",
      "label: unknown | prediction: [0]\n",
      "label: unknown | prediction: [0]\n",
      "label: unknown | prediction: [1]\n",
      "label: gun_shot | prediction: [0]\n",
      "label: gun_shot | prediction: [1]\n",
      "label: gun_shot | prediction: [0]\n",
      "label: gun_shot | prediction: [0]\n",
      "label: gun_shot | prediction: [1]\n",
      "label: gun_shot | prediction: [0]\n",
      "label: gun_shot | prediction: [1]\n",
      "label: gun_shot | prediction: [1]\n",
      "label: gun_shot | prediction: [1]\n",
      "label: gun_shot | prediction: [0]\n"
     ]
    }
   ],
   "source": [
    "# not gun_shot\n",
    "cnt_t0 = 0 # gun_shot\n",
    "cnt_t1 = 0 # unknown\n",
    "\n",
    "print('gun_shot = [0] & unknown = [1]\\n')\n",
    "for i in range(752):\n",
    "    if cnt_t0 >= 10 and cnt_t1 >= 10:\n",
    "        break\n",
    "        \n",
    "    if data.label[i] != 'gun_shot':\n",
    "        if cnt_t1 >= 10:\n",
    "            continue\n",
    "            \n",
    "        cnt_t1 += 1\n",
    "        t1 = np.array([data.feature[i]])\n",
    "        pred1 = model.predict_classes(t1)\n",
    "        print('label:', data.label[i],'| prediction:', pred1)\n",
    "        \n",
    "    else:\n",
    "        if cnt_t0 >= 10:\n",
    "            continue\n",
    "            \n",
    "        cnt_t0 += 1\n",
    "        t0 = np.array([data.feature[i]])\n",
    "        pred0 = model.predict_classes(t0)\n",
    "        print('label:', data.label[i],'| prediction:', pred0)"
   ]
  },
  {
   "cell_type": "markdown",
   "id": "third-oasis",
   "metadata": {},
   "source": [
    "----\n",
    "### Result\n",
    "MFCC\n",
    "- training accuracy: 0.8191\n",
    "- training loss: 0.4226\n",
    "- validation accuracy: 0.8351\n",
    "- validation loss: 0.3745\n",
    "\n",
    "Test with 10 Data\n",
    "- accuracy in predicting unknown: 0.2\n",
    "- accuracy in predicting gun_shot: 0.5"
   ]
  }
 ],
 "metadata": {
  "kernelspec": {
   "display_name": "Python 3",
   "language": "python",
   "name": "python3"
  },
  "language_info": {
   "codemirror_mode": {
    "name": "ipython",
    "version": 3
   },
   "file_extension": ".py",
   "mimetype": "text/x-python",
   "name": "python",
   "nbconvert_exporter": "python",
   "pygments_lexer": "ipython3",
   "version": "3.6.9"
  }
 },
 "nbformat": 4,
 "nbformat_minor": 5
}
