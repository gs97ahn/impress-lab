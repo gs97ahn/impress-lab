{
 "cells": [
  {
   "cell_type": "markdown",
   "id": "multiple-programming",
   "metadata": {},
   "source": [
    "# Detect and Record Audio"
   ]
  },
  {
   "cell_type": "markdown",
   "id": "linear-camping",
   "metadata": {},
   "source": [
    "### Import essential libraries"
   ]
  },
  {
   "cell_type": "code",
   "execution_count": 1,
   "id": "equipped-justice",
   "metadata": {},
   "outputs": [],
   "source": [
    "from sys import byteorder\n",
    "from array import array\n",
    "from struct import pack\n",
    "\n",
    "import pyaudio\n",
    "import wave"
   ]
  },
  {
   "cell_type": "markdown",
   "id": "israeli-component",
   "metadata": {},
   "source": [
    "### Declare global variables"
   ]
  },
  {
   "cell_type": "code",
   "execution_count": 2,
   "id": "marine-dressing",
   "metadata": {},
   "outputs": [],
   "source": [
    "FORMAT = pyaudio.paInt16\n",
    "CHANNELS = 1\n",
    "RATE = 44100\n",
    "INPUT_DEVICE_INDEX = 11\n",
    "CHUNK = 4096\n",
    "RECORD_SECONDS = 5\n",
    "WAVE_OUTPUT_FILENAME = \"detect_and_record.wav\"\n",
    "THRESHOLD = 3000"
   ]
  },
  {
   "cell_type": "markdown",
   "id": "damaged-mercury",
   "metadata": {},
   "source": [
    "### is_silent(send_data)\n",
    "Returns 'True' if below the 'silent' threshold"
   ]
  },
  {
   "cell_type": "code",
   "execution_count": 3,
   "id": "material-stockholm",
   "metadata": {},
   "outputs": [],
   "source": [
    "def is_silent(send_data):\n",
    "    return max(send_data) < THRESHOLD"
   ]
  },
  {
   "cell_type": "markdown",
   "id": "local-wallpaper",
   "metadata": {},
   "source": [
    "### normalize(send_data)\n",
    "Averge the volume out"
   ]
  },
  {
   "cell_type": "code",
   "execution_count": 4,
   "id": "corrected-stock",
   "metadata": {},
   "outputs": [],
   "source": [
    "def normalize(send_data):\n",
    "    MAXIMUM = 16384\n",
    "    times = float(MAXIMUM) / max(abs(i) for i in send_data)\n",
    "    \n",
    "    r = array('h')\n",
    "    for i in send_data:\n",
    "        r.append(int(i * times))\n",
    "    return r"
   ]
  },
  {
   "cell_type": "markdown",
   "id": "several-notice",
   "metadata": {},
   "source": [
    "### trim(send_data)\n",
    "Trim the blank spots at the start and end"
   ]
  },
  {
   "cell_type": "code",
   "execution_count": 5,
   "id": "specialized-michael",
   "metadata": {},
   "outputs": [],
   "source": [
    "def trim(send_data):\n",
    "    \n",
    "    def _trim(send_data):\n",
    "        send_started = False\n",
    "        r = array('h')\n",
    "        for i in send_data:\n",
    "            if not send_started and abs(i) > THRESHOLD:\n",
    "                send_started = True\n",
    "                r.append(i)\n",
    "            elif send_started:\n",
    "                r.append(i)\n",
    "        return r\n",
    "    \n",
    "    # trim to the left\n",
    "    send_data = _trim(send_data)\n",
    "    \n",
    "    # trim to the right\n",
    "    send_data.reverse()\n",
    "    send_data = _trim(send_data)\n",
    "    send_data.reverse()\n",
    "    return send_data"
   ]
  },
  {
   "cell_type": "markdown",
   "id": "accepted-adrian",
   "metadata": {},
   "source": [
    "### add_silence(send_data, seconds)\n",
    "Add silence to the start and end of 'send_data' of length 'seconds' (float)"
   ]
  },
  {
   "cell_type": "code",
   "execution_count": 6,
   "id": "handmade-mainland",
   "metadata": {},
   "outputs": [],
   "source": [
    "def add_silence(send_data, seconds):\n",
    "    silence = [0] * int(seconds * RATE)\n",
    "    r = array('h', silence)\n",
    "    r.extend(send_data)\n",
    "    r.extend(silence)\n",
    "    return r"
   ]
  },
  {
   "cell_type": "markdown",
   "id": "fifty-northern",
   "metadata": {},
   "source": [
    "### record()\n",
    "Record a word or words from the microphone and return the data as an array of signed shorts.\n",
    "Normalizes the audio, trims silence from the start and end, and pads with 0.5 seconds of blank sound to make sure VLC et al can play it without getting chopped off."
   ]
  },
  {
   "cell_type": "code",
   "execution_count": 7,
   "id": "parental-mileage",
   "metadata": {},
   "outputs": [],
   "source": [
    "def record():\n",
    "    p = pyaudio.PyAudio()\n",
    "    stream = p.open(format=FORMAT, channels=CHANNELS, rate=RATE, input=True, output=True, input_device_index=INPUT_DEVICE_INDEX, frames_per_buffer=CHUNK)\n",
    "    \n",
    "    num_silent = 0\n",
    "    send_started = False\n",
    "    \n",
    "    r = array('h')\n",
    "    \n",
    "    while True:\n",
    "        # little endian, signed short\n",
    "        send_data = array('h', stream.read(CHUNK))\n",
    "        if byteorder == 'big':\n",
    "            send_data.byteswap()\n",
    "        r.extend(send_data)\n",
    "        \n",
    "        silent = is_silent(send_data)\n",
    "        \n",
    "        if silent and send_started:\n",
    "            num_silent += 1\n",
    "        elif not silent and not send_started:\n",
    "            send_started = True\n",
    "        \n",
    "        if send_started and num_silent > 30:\n",
    "            break\n",
    "            \n",
    "    sample_width = p.get_sample_size(FORMAT)\n",
    "    stream.stop_stream()\n",
    "    stream.close()\n",
    "    p.terminate()\n",
    "    \n",
    "    r = normalize(r)\n",
    "    r = trim(r)\n",
    "    r = add_silence(r, 0.5)\n",
    "    return sample_width, r"
   ]
  },
  {
   "cell_type": "markdown",
   "id": "honest-atmosphere",
   "metadata": {},
   "source": [
    "### record_to_file(path)\n",
    "Records from the microphone and output the resulting data to 'path'"
   ]
  },
  {
   "cell_type": "code",
   "execution_count": 8,
   "id": "becoming-tumor",
   "metadata": {},
   "outputs": [],
   "source": [
    "def record_to_file(path):\n",
    "    sample_width, data = record()\n",
    "    data = pack('<' + ('h' * len(data)), *data)\n",
    "    \n",
    "    wf = wave.open(path, 'wb')\n",
    "    wf.setnchannels(CHANNELS)\n",
    "    wf.setsampwidth(sample_width)\n",
    "    wf.setframerate(RATE)\n",
    "    wf.writeframes(data)\n",
    "    wf.close()"
   ]
  },
  {
   "cell_type": "code",
   "execution_count": 9,
   "id": "pointed-archives",
   "metadata": {},
   "outputs": [
    {
     "name": "stdout",
     "output_type": "stream",
     "text": [
      "Please speak a word into the microphone\n",
      "Done - reuslt written to detect_and_record.wav\n"
     ]
    }
   ],
   "source": [
    "print(\"Please speak a word into the microphone\")\n",
    "record_to_file(WAVE_OUTPUT_FILENAME)\n",
    "print(\"Done - reuslt written to\", WAVE_OUTPUT_FILENAME)"
   ]
  }
 ],
 "metadata": {
  "kernelspec": {
   "display_name": "Python 3",
   "language": "python",
   "name": "python3"
  },
  "language_info": {
   "codemirror_mode": {
    "name": "ipython",
    "version": 3
   },
   "file_extension": ".py",
   "mimetype": "text/x-python",
   "name": "python",
   "nbconvert_exporter": "python",
   "pygments_lexer": "ipython3",
   "version": "3.6.9"
  }
 },
 "nbformat": 4,
 "nbformat_minor": 5
}
