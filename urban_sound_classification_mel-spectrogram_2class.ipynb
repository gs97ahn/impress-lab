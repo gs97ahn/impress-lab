{
 "cells": [
  {
   "cell_type": "markdown",
   "id": "standard-height",
   "metadata": {},
   "source": [
    "# Urban Sound Classification using Mel-Spectrogram\n",
    "## 2 Class Classification\n",
    "Dataset: UrbanSound8K"
   ]
  },
  {
   "cell_type": "markdown",
   "id": "color-waste",
   "metadata": {},
   "source": [
    "### Create Mel-Spectrogram Dataset"
   ]
  },
  {
   "cell_type": "code",
   "execution_count": 1,
   "id": "partial-cruise",
   "metadata": {},
   "outputs": [
    {
     "name": "stderr",
     "output_type": "stream",
     "text": [
      "WARNING: pip is being invoked by an old script wrapper. This will fail in a future version of pip.\n",
      "Please see https://github.com/pypa/pip/issues/5599 for advice on fixing the underlying issue.\n",
      "To avoid this problem you can invoke Python with '-m pip' instead of running pip directly.\n"
     ]
    },
    {
     "name": "stdout",
     "output_type": "stream",
     "text": [
      "Requirement already satisfied: progressbar in /usr/local/lib/python3.6/dist-packages (2.5)\n"
     ]
    },
    {
     "name": "stderr",
     "output_type": "stream",
     "text": [
      "WARNING: Running pip as the 'root' user can result in broken permissions and conflicting behaviour with the system package manager. It is recommended to use a virtual environment instead: https://pip.pypa.io/warnings/venv\n"
     ]
    },
    {
     "data": {
      "text/plain": [
       "0"
      ]
     },
     "execution_count": 1,
     "metadata": {},
     "output_type": "execute_result"
    }
   ],
   "source": [
    "from pip._internal import main\n",
    "main([\"install\", \"progressbar\"])"
   ]
  },
  {
   "cell_type": "markdown",
   "id": "retired-preview",
   "metadata": {},
   "source": [
    "### Import Libraries"
   ]
  },
  {
   "cell_type": "code",
   "execution_count": 2,
   "id": "cardiovascular-simple",
   "metadata": {},
   "outputs": [],
   "source": [
    "import progressbar\n",
    "import time\n",
    "import os\n",
    "import struct\n",
    "import matplotlib.pyplot as plt\n",
    "import IPython.display as ipd\n",
    "import pandas as pd\n",
    "import numpy as np\n",
    "import librosa\n",
    "import DataCollection as dc # a local module"
   ]
  },
  {
   "cell_type": "markdown",
   "id": "ordinary-aruba",
   "metadata": {},
   "source": [
    "### Metadata Retrievement"
   ]
  },
  {
   "cell_type": "code",
   "execution_count": 3,
   "id": "hired-desire",
   "metadata": {},
   "outputs": [
    {
     "data": {
      "text/html": [
       "<div>\n",
       "<style scoped>\n",
       "    .dataframe tbody tr th:only-of-type {\n",
       "        vertical-align: middle;\n",
       "    }\n",
       "\n",
       "    .dataframe tbody tr th {\n",
       "        vertical-align: top;\n",
       "    }\n",
       "\n",
       "    .dataframe thead th {\n",
       "        text-align: right;\n",
       "    }\n",
       "</style>\n",
       "<table border=\"1\" class=\"dataframe\">\n",
       "  <thead>\n",
       "    <tr style=\"text-align: right;\">\n",
       "      <th></th>\n",
       "      <th>slice_file_name</th>\n",
       "      <th>fsID</th>\n",
       "      <th>start</th>\n",
       "      <th>end</th>\n",
       "      <th>salience</th>\n",
       "      <th>fold</th>\n",
       "      <th>classID</th>\n",
       "      <th>class</th>\n",
       "    </tr>\n",
       "  </thead>\n",
       "  <tbody>\n",
       "    <tr>\n",
       "      <th>0</th>\n",
       "      <td>100032-3-0-0.wav</td>\n",
       "      <td>100032</td>\n",
       "      <td>0.0</td>\n",
       "      <td>0.317551</td>\n",
       "      <td>1</td>\n",
       "      <td>5</td>\n",
       "      <td>3</td>\n",
       "      <td>dog_bark</td>\n",
       "    </tr>\n",
       "    <tr>\n",
       "      <th>1</th>\n",
       "      <td>100263-2-0-117.wav</td>\n",
       "      <td>100263</td>\n",
       "      <td>58.5</td>\n",
       "      <td>62.500000</td>\n",
       "      <td>1</td>\n",
       "      <td>5</td>\n",
       "      <td>2</td>\n",
       "      <td>children_playing</td>\n",
       "    </tr>\n",
       "    <tr>\n",
       "      <th>2</th>\n",
       "      <td>100263-2-0-121.wav</td>\n",
       "      <td>100263</td>\n",
       "      <td>60.5</td>\n",
       "      <td>64.500000</td>\n",
       "      <td>1</td>\n",
       "      <td>5</td>\n",
       "      <td>2</td>\n",
       "      <td>children_playing</td>\n",
       "    </tr>\n",
       "    <tr>\n",
       "      <th>3</th>\n",
       "      <td>100263-2-0-126.wav</td>\n",
       "      <td>100263</td>\n",
       "      <td>63.0</td>\n",
       "      <td>67.000000</td>\n",
       "      <td>1</td>\n",
       "      <td>5</td>\n",
       "      <td>2</td>\n",
       "      <td>children_playing</td>\n",
       "    </tr>\n",
       "    <tr>\n",
       "      <th>4</th>\n",
       "      <td>100263-2-0-137.wav</td>\n",
       "      <td>100263</td>\n",
       "      <td>68.5</td>\n",
       "      <td>72.500000</td>\n",
       "      <td>1</td>\n",
       "      <td>5</td>\n",
       "      <td>2</td>\n",
       "      <td>children_playing</td>\n",
       "    </tr>\n",
       "  </tbody>\n",
       "</table>\n",
       "</div>"
      ],
      "text/plain": [
       "      slice_file_name    fsID  start        end  salience  fold  classID  \\\n",
       "0    100032-3-0-0.wav  100032    0.0   0.317551         1     5        3   \n",
       "1  100263-2-0-117.wav  100263   58.5  62.500000         1     5        2   \n",
       "2  100263-2-0-121.wav  100263   60.5  64.500000         1     5        2   \n",
       "3  100263-2-0-126.wav  100263   63.0  67.000000         1     5        2   \n",
       "4  100263-2-0-137.wav  100263   68.5  72.500000         1     5        2   \n",
       "\n",
       "              class  \n",
       "0          dog_bark  \n",
       "1  children_playing  \n",
       "2  children_playing  \n",
       "3  children_playing  \n",
       "4  children_playing  "
      ]
     },
     "execution_count": 3,
     "metadata": {},
     "output_type": "execute_result"
    }
   ],
   "source": [
    "data = pd.read_csv(\"UrbanSound8K/metadata/UrbanSound8K.csv\")\n",
    "data.head()"
   ]
  },
  {
   "cell_type": "code",
   "execution_count": 4,
   "id": "brown-benjamin",
   "metadata": {},
   "outputs": [
    {
     "data": {
      "text/plain": [
       "(752, 2)"
      ]
     },
     "execution_count": 4,
     "metadata": {},
     "output_type": "execute_result"
    }
   ],
   "source": [
    "dataset = np.zeros(shape=(752,2), dtype=object) # 5:5\n",
    "dataset.shape"
   ]
  },
  {
   "cell_type": "markdown",
   "id": "trying-federation",
   "metadata": {},
   "source": [
    "### Feature Extraction"
   ]
  },
  {
   "cell_type": "code",
   "execution_count": 5,
   "id": "racial-shelf",
   "metadata": {},
   "outputs": [
    {
     "name": "stderr",
     "output_type": "stream",
     "text": [
      "||                                                                      ||   0%\r"
     ]
    },
    {
     "name": "stdout",
     "output_type": "stream",
     "text": [
      "air_conditioner:  42\n"
     ]
    },
    {
     "name": "stderr",
     "output_type": "stream",
     "text": [
      "||*                                                                     ||   2%\r"
     ]
    },
    {
     "name": "stdout",
     "output_type": "stream",
     "text": [
      "engine_idling:  42\n"
     ]
    },
    {
     "name": "stderr",
     "output_type": "stream",
     "text": [
      "||**                                                                    ||   3%\r"
     ]
    },
    {
     "name": "stdout",
     "output_type": "stream",
     "text": [
      "drilling:  42\n",
      "jackhammer:  42\n"
     ]
    },
    {
     "name": "stderr",
     "output_type": "stream",
     "text": [
      "||***                                                                   ||   4%\r"
     ]
    },
    {
     "name": "stdout",
     "output_type": "stream",
     "text": [
      "siren:  42\n"
     ]
    },
    {
     "name": "stderr",
     "output_type": "stream",
     "text": [
      "||****                                                                  ||   6%\r"
     ]
    },
    {
     "name": "stdout",
     "output_type": "stream",
     "text": [
      "dog_bark:  42\n",
      "children_playing:  42\n",
      "street_music:  42\n"
     ]
    },
    {
     "name": "stderr",
     "output_type": "stream",
     "text": [
      "||**************                                                        ||  20%\r"
     ]
    },
    {
     "name": "stdout",
     "output_type": "stream",
     "text": [
      "car_horn:  42\n"
     ]
    },
    {
     "name": "stderr",
     "output_type": "stream",
     "text": [
      "||*******************************************************************   ||  96%\r"
     ]
    },
    {
     "name": "stdout",
     "output_type": "stream",
     "text": [
      "gun_shot:  374\n"
     ]
    },
    {
     "name": "stderr",
     "output_type": "stream",
     "text": [
      "||**********************************************************************|| 100%\n"
     ]
    }
   ],
   "source": [
    "bar = progressbar.ProgressBar(maxval=data.shape[0], widgets=[progressbar.Bar('*', '||', '||'), ' ', progressbar.Percentage()])\n",
    "bar.start()\n",
    "\n",
    "j = 0\n",
    "\n",
    "cnt_air_conditioner = 0\n",
    "cnt_car_horn = 0\n",
    "cnt_children_playing = 0\n",
    "cnt_dog_bark = 0\n",
    "cnt_drilling = 0\n",
    "cnt_engine_idling = 0\n",
    "cnt_jackhammer = 0\n",
    "cnt_siren = 0\n",
    "cnt_street_music = 0\n",
    "\n",
    "cnt_gun_shot = 0\n",
    "\n",
    "for i in range(data.shape[0]):\n",
    "    fullpath, class_id = dc.path_class(data,data.slice_file_name[i])\n",
    "    if class_id != 'gun_shot':\n",
    "        if class_id == 'air_conditioner':\n",
    "            cnt_air_conditioner += 1\n",
    "            if cnt_air_conditioner > 42:\n",
    "                continue\n",
    "            if cnt_air_conditioner >= 42:\n",
    "                print('air_conditioner: ', cnt_air_conditioner)\n",
    "            \n",
    "        elif class_id == 'car_horn':\n",
    "            cnt_car_horn += 1\n",
    "            if cnt_car_horn > 42:\n",
    "                continue\n",
    "            if cnt_car_horn >= 42:\n",
    "                print('car_horn: ', cnt_car_horn)\n",
    "        \n",
    "        elif class_id == 'children_playing':\n",
    "            cnt_children_playing += 1\n",
    "            if cnt_children_playing > 42:\n",
    "                continue\n",
    "            if cnt_children_playing >= 42:\n",
    "                print('children_playing: ', cnt_children_playing)\n",
    "        \n",
    "        elif class_id == 'dog_bark':\n",
    "            cnt_dog_bark += 1\n",
    "            if cnt_dog_bark > 42:\n",
    "                continue\n",
    "            if cnt_dog_bark >= 42:\n",
    "                print('dog_bark: ', cnt_dog_bark)\n",
    "        \n",
    "        elif class_id == 'drilling':\n",
    "            cnt_drilling += 1\n",
    "            if cnt_drilling > 42:\n",
    "                continue\n",
    "            if cnt_drilling >= 42:\n",
    "                print('drilling: ', cnt_drilling)\n",
    "        \n",
    "        elif class_id == 'engine_idling':\n",
    "            cnt_engine_idling += 1\n",
    "            if cnt_engine_idling > 42:\n",
    "                continue\n",
    "            if cnt_engine_idling >= 42:\n",
    "                print('engine_idling: ', cnt_engine_idling)\n",
    "        \n",
    "        elif class_id == 'jackhammer':\n",
    "            cnt_jackhammer += 1\n",
    "            if cnt_jackhammer > 42:\n",
    "                continue\n",
    "            if cnt_jackhammer >= 42:\n",
    "                print('jackhammer: ', cnt_jackhammer)\n",
    "        \n",
    "        elif class_id == 'siren':\n",
    "            cnt_siren += 1\n",
    "            if cnt_siren > 42:\n",
    "                continue\n",
    "            if cnt_siren >= 42:\n",
    "                print('siren: ', cnt_siren)\n",
    "        \n",
    "        elif class_id == 'street_music':\n",
    "            cnt_street_music += 1\n",
    "            if cnt_street_music > 42:\n",
    "                continue\n",
    "            if cnt_street_music >= 42:\n",
    "                print('street_music: ', cnt_street_music)\n",
    "        class_id = 'unknown'\n",
    "    if class_id == 'gun_shot':\n",
    "        cnt_gun_shot += 1\n",
    "        if cnt_gun_shot >= 374:\n",
    "            print('gun_shot: ', cnt_gun_shot)\n",
    "        \n",
    "    try:\n",
    "        X, sample_rate = librosa.load(fullpath, res_type='kaiser_fast')\n",
    "        mels = np.mean(librosa.feature.melspectrogram(y=X, sr=sample_rate).T,axis=0)\n",
    "    except Exception:\n",
    "        print(\"Error encountered while parsing file: \", file)\n",
    "        mels,class_id = None, None\n",
    "    feature = mels\n",
    "    label = class_id\n",
    "    dataset[j,0],dataset[j,1] = feature,label\n",
    "    j += 1\n",
    "    bar.update(i+1)\n",
    "    \n",
    "bar.finish()"
   ]
  },
  {
   "cell_type": "code",
   "execution_count": 6,
   "id": "confused-explanation",
   "metadata": {},
   "outputs": [],
   "source": [
    "np.save(\"dataset_mels_2class\", dataset, allow_pickle=True)"
   ]
  },
  {
   "cell_type": "code",
   "execution_count": 7,
   "id": "conditional-bullet",
   "metadata": {},
   "outputs": [],
   "source": [
    "l = np.load(\"dataset_mels_2class.npy\", allow_pickle=True)"
   ]
  },
  {
   "cell_type": "code",
   "execution_count": 8,
   "id": "victorian-trademark",
   "metadata": {},
   "outputs": [
    {
     "data": {
      "text/plain": [
       "(752, 2)"
      ]
     },
     "execution_count": 8,
     "metadata": {},
     "output_type": "execute_result"
    }
   ],
   "source": [
    "l.shape"
   ]
  },
  {
   "cell_type": "code",
   "execution_count": 9,
   "id": "legislative-cycling",
   "metadata": {},
   "outputs": [
    {
     "data": {
      "text/plain": [
       "'gun_shot'"
      ]
     },
     "execution_count": 9,
     "metadata": {},
     "output_type": "execute_result"
    }
   ],
   "source": [
    "l[751,1]"
   ]
  },
  {
   "cell_type": "markdown",
   "id": "destroyed-danish",
   "metadata": {},
   "source": [
    "----\n",
    "### Data Preprocessing"
   ]
  },
  {
   "cell_type": "code",
   "execution_count": 10,
   "id": "protective-ambassador",
   "metadata": {},
   "outputs": [
    {
     "name": "stderr",
     "output_type": "stream",
     "text": [
      "Using TensorFlow backend.\n",
      "WARNING: Deprecation warnings have been disabled. Set TF_ENABLE_DEPRECATION_WARNINGS=1 to re-enable them.\n"
     ]
    }
   ],
   "source": [
    "data = pd.DataFrame(np.load(\"dataset_mels_2class.npy\",allow_pickle= True))\n",
    "data.columns = ['feature', 'label']\n",
    "\n",
    "from sklearn.preprocessing import LabelEncoder\n",
    "\n",
    "X = np.array(data.feature.tolist())\n",
    "y = np.array(data.label.tolist())\n",
    "\n",
    "from sklearn.model_selection import train_test_split\n",
    "X,val_x,y,val_y = train_test_split(X,y)\n",
    "lb = LabelEncoder()\n",
    "\n",
    "from keras.utils import np_utils\n",
    "\n",
    "y = np_utils.to_categorical(lb.fit_transform(y))\n",
    "val_y = np_utils.to_categorical(lb.fit_transform(val_y))"
   ]
  },
  {
   "cell_type": "markdown",
   "id": "beginning-hindu",
   "metadata": {},
   "source": [
    "### Model Structure"
   ]
  },
  {
   "cell_type": "code",
   "execution_count": 11,
   "id": "absolute-consent",
   "metadata": {},
   "outputs": [],
   "source": [
    "from keras.models import Sequential\n",
    "from keras.layers import Dense, Dropout, Activation, Flatten\n",
    "from keras.layers import Convolution2D, MaxPooling2D\n",
    "from keras.optimizers import Adam\n",
    "from sklearn import metrics\n",
    "\n",
    "num_labels = y.shape[1]\n",
    "\n",
    "# build model\n",
    "model = Sequential()\n",
    "\n",
    "model.add(Dense(512, input_shape=(128,)))\n",
    "model.add(Activation('relu'))\n",
    "model.add(Dropout(0.5))\n",
    "\n",
    "model.add(Dense(256))\n",
    "model.add(Activation('relu'))\n",
    "model.add(Dropout(0.5))\n",
    "\n",
    "model.add(Dense(num_labels))\n",
    "model.add(Activation('softmax'))\n",
    "\n",
    "model.compile(loss='categorical_crossentropy', metrics=['accuracy'], optimizer='adam')"
   ]
  },
  {
   "cell_type": "code",
   "execution_count": 12,
   "id": "protective-consumer",
   "metadata": {},
   "outputs": [
    {
     "name": "stdout",
     "output_type": "stream",
     "text": [
      "Model: \"sequential_1\"\n",
      "_________________________________________________________________\n",
      "Layer (type)                 Output Shape              Param #   \n",
      "=================================================================\n",
      "dense_1 (Dense)              (None, 512)               66048     \n",
      "_________________________________________________________________\n",
      "activation_1 (Activation)    (None, 512)               0         \n",
      "_________________________________________________________________\n",
      "dropout_1 (Dropout)          (None, 512)               0         \n",
      "_________________________________________________________________\n",
      "dense_2 (Dense)              (None, 256)               131328    \n",
      "_________________________________________________________________\n",
      "activation_2 (Activation)    (None, 256)               0         \n",
      "_________________________________________________________________\n",
      "dropout_2 (Dropout)          (None, 256)               0         \n",
      "_________________________________________________________________\n",
      "dense_3 (Dense)              (None, 2)                 514       \n",
      "_________________________________________________________________\n",
      "activation_3 (Activation)    (None, 2)                 0         \n",
      "=================================================================\n",
      "Total params: 197,890\n",
      "Trainable params: 197,890\n",
      "Non-trainable params: 0\n",
      "_________________________________________________________________\n"
     ]
    }
   ],
   "source": [
    "model.summary()"
   ]
  },
  {
   "cell_type": "markdown",
   "id": "finite-security",
   "metadata": {},
   "source": [
    "### Train Model"
   ]
  },
  {
   "cell_type": "code",
   "execution_count": 13,
   "id": "driven-deviation",
   "metadata": {},
   "outputs": [
    {
     "name": "stderr",
     "output_type": "stream",
     "text": [
      "WARNING: From /usr/local/lib/python3.6/dist-packages/keras/backend/tensorflow_backend.py:422: The name tf.global_variables is deprecated. Please use tf.compat.v1.global_variables instead.\n",
      "\n"
     ]
    },
    {
     "name": "stdout",
     "output_type": "stream",
     "text": [
      "Train on 564 samples, validate on 188 samples\n",
      "Epoch 1/72\n",
      "564/564 [==============================] - 13s 23ms/step - loss: 4.2061 - accuracy: 0.5798 - val_loss: 2.7293 - val_accuracy: 0.6755\n",
      "Epoch 2/72\n",
      "564/564 [==============================] - 0s 607us/step - loss: 2.5090 - accuracy: 0.7074 - val_loss: 2.5019 - val_accuracy: 0.7128\n",
      "Epoch 3/72\n",
      "564/564 [==============================] - 0s 546us/step - loss: 1.7988 - accuracy: 0.7589 - val_loss: 1.0534 - val_accuracy: 0.7979\n",
      "Epoch 4/72\n",
      "564/564 [==============================] - 0s 424us/step - loss: 1.1438 - accuracy: 0.7606 - val_loss: 0.3357 - val_accuracy: 0.8032\n",
      "Epoch 5/72\n",
      "564/564 [==============================] - 0s 383us/step - loss: 1.5920 - accuracy: 0.7553 - val_loss: 1.2013 - val_accuracy: 0.7766\n",
      "Epoch 6/72\n",
      "564/564 [==============================] - 0s 388us/step - loss: 1.4533 - accuracy: 0.7890 - val_loss: 0.3337 - val_accuracy: 0.8245\n",
      "Epoch 7/72\n",
      "564/564 [==============================] - 0s 383us/step - loss: 1.2541 - accuracy: 0.7748 - val_loss: 0.2868 - val_accuracy: 0.8351\n",
      "Epoch 8/72\n",
      "564/564 [==============================] - 0s 375us/step - loss: 0.9875 - accuracy: 0.7606 - val_loss: 0.4216 - val_accuracy: 0.8032\n",
      "Epoch 9/72\n",
      "564/564 [==============================] - 0s 374us/step - loss: 0.7581 - accuracy: 0.8032 - val_loss: 0.2630 - val_accuracy: 0.8404\n",
      "Epoch 10/72\n",
      "564/564 [==============================] - 0s 373us/step - loss: 0.8943 - accuracy: 0.8032 - val_loss: 0.2690 - val_accuracy: 0.8457\n",
      "Epoch 11/72\n",
      "564/564 [==============================] - 0s 377us/step - loss: 0.4886 - accuracy: 0.8298 - val_loss: 0.2546 - val_accuracy: 0.8351\n",
      "Epoch 12/72\n",
      "564/564 [==============================] - 0s 372us/step - loss: 0.6723 - accuracy: 0.8351 - val_loss: 0.2473 - val_accuracy: 0.8511\n",
      "Epoch 13/72\n",
      "564/564 [==============================] - 0s 372us/step - loss: 0.6471 - accuracy: 0.8174 - val_loss: 0.2526 - val_accuracy: 0.8511\n",
      "Epoch 14/72\n",
      "564/564 [==============================] - 0s 377us/step - loss: 0.5531 - accuracy: 0.8457 - val_loss: 0.3199 - val_accuracy: 0.8138\n",
      "Epoch 15/72\n",
      "564/564 [==============================] - 0s 378us/step - loss: 0.6235 - accuracy: 0.8298 - val_loss: 0.2606 - val_accuracy: 0.8457\n",
      "Epoch 16/72\n",
      "564/564 [==============================] - 0s 388us/step - loss: 0.5165 - accuracy: 0.8280 - val_loss: 0.2596 - val_accuracy: 0.8511\n",
      "Epoch 17/72\n",
      "564/564 [==============================] - 0s 365us/step - loss: 0.3105 - accuracy: 0.8582 - val_loss: 0.2495 - val_accuracy: 0.8564\n",
      "Epoch 18/72\n",
      "564/564 [==============================] - 0s 375us/step - loss: 0.4238 - accuracy: 0.8564 - val_loss: 0.2431 - val_accuracy: 0.8617\n",
      "Epoch 19/72\n",
      "564/564 [==============================] - 0s 375us/step - loss: 0.4446 - accuracy: 0.8511 - val_loss: 0.2527 - val_accuracy: 0.8457\n",
      "Epoch 20/72\n",
      "564/564 [==============================] - 0s 377us/step - loss: 0.3599 - accuracy: 0.8706 - val_loss: 0.2486 - val_accuracy: 0.8564\n",
      "Epoch 21/72\n",
      "564/564 [==============================] - 0s 367us/step - loss: 0.4684 - accuracy: 0.8422 - val_loss: 0.2468 - val_accuracy: 0.8511\n",
      "Epoch 22/72\n",
      "564/564 [==============================] - 0s 364us/step - loss: 0.2695 - accuracy: 0.8688 - val_loss: 0.2420 - val_accuracy: 0.8564\n",
      "Epoch 23/72\n",
      "564/564 [==============================] - 0s 369us/step - loss: 0.3908 - accuracy: 0.8741 - val_loss: 0.2332 - val_accuracy: 0.8617\n",
      "Epoch 24/72\n",
      "564/564 [==============================] - 0s 393us/step - loss: 0.3914 - accuracy: 0.8688 - val_loss: 0.2276 - val_accuracy: 0.8670\n",
      "Epoch 25/72\n",
      "564/564 [==============================] - 0s 373us/step - loss: 0.3425 - accuracy: 0.8617 - val_loss: 0.2310 - val_accuracy: 0.8670\n",
      "Epoch 26/72\n",
      "564/564 [==============================] - 0s 372us/step - loss: 0.3487 - accuracy: 0.8777 - val_loss: 0.2322 - val_accuracy: 0.8617\n",
      "Epoch 27/72\n",
      "564/564 [==============================] - 0s 383us/step - loss: 0.4627 - accuracy: 0.8723 - val_loss: 0.2192 - val_accuracy: 0.8670\n",
      "Epoch 28/72\n",
      "564/564 [==============================] - 0s 375us/step - loss: 0.3175 - accuracy: 0.8901 - val_loss: 0.2199 - val_accuracy: 0.8670\n",
      "Epoch 29/72\n",
      "564/564 [==============================] - 0s 364us/step - loss: 0.2771 - accuracy: 0.8848 - val_loss: 0.2228 - val_accuracy: 0.8723\n",
      "Epoch 30/72\n",
      "564/564 [==============================] - 0s 377us/step - loss: 0.2748 - accuracy: 0.8723 - val_loss: 0.2188 - val_accuracy: 0.8723\n",
      "Epoch 31/72\n",
      "564/564 [==============================] - 0s 377us/step - loss: 0.2938 - accuracy: 0.8777 - val_loss: 0.2155 - val_accuracy: 0.8723\n",
      "Epoch 32/72\n",
      "564/564 [==============================] - 0s 374us/step - loss: 0.2309 - accuracy: 0.8972 - val_loss: 0.2117 - val_accuracy: 0.8723\n",
      "Epoch 33/72\n",
      "564/564 [==============================] - 0s 373us/step - loss: 0.3364 - accuracy: 0.8830 - val_loss: 0.2134 - val_accuracy: 0.8723\n",
      "Epoch 34/72\n",
      "564/564 [==============================] - 0s 381us/step - loss: 0.2570 - accuracy: 0.8972 - val_loss: 0.2138 - val_accuracy: 0.8723\n",
      "Epoch 35/72\n",
      "564/564 [==============================] - 0s 372us/step - loss: 0.2701 - accuracy: 0.8865 - val_loss: 0.2115 - val_accuracy: 0.8777\n",
      "Epoch 36/72\n",
      "564/564 [==============================] - 0s 370us/step - loss: 0.2493 - accuracy: 0.8954 - val_loss: 0.2147 - val_accuracy: 0.8670\n",
      "Epoch 37/72\n",
      "564/564 [==============================] - 0s 373us/step - loss: 0.2413 - accuracy: 0.9007 - val_loss: 0.2147 - val_accuracy: 0.8723\n",
      "Epoch 38/72\n",
      "564/564 [==============================] - 0s 371us/step - loss: 0.2689 - accuracy: 0.8972 - val_loss: 0.2128 - val_accuracy: 0.8723\n",
      "Epoch 39/72\n",
      "564/564 [==============================] - 0s 372us/step - loss: 0.2063 - accuracy: 0.9025 - val_loss: 0.2108 - val_accuracy: 0.8777\n",
      "Epoch 40/72\n",
      "564/564 [==============================] - 0s 362us/step - loss: 0.1933 - accuracy: 0.9096 - val_loss: 0.2082 - val_accuracy: 0.8830\n",
      "Epoch 41/72\n",
      "564/564 [==============================] - 0s 368us/step - loss: 0.2044 - accuracy: 0.9060 - val_loss: 0.2136 - val_accuracy: 0.8777\n",
      "Epoch 42/72\n",
      "564/564 [==============================] - 0s 370us/step - loss: 0.2571 - accuracy: 0.9043 - val_loss: 0.2268 - val_accuracy: 0.8883\n",
      "Epoch 43/72\n",
      "564/564 [==============================] - 0s 366us/step - loss: 0.2022 - accuracy: 0.9167 - val_loss: 0.2139 - val_accuracy: 0.8830\n",
      "Epoch 44/72\n",
      "564/564 [==============================] - 0s 373us/step - loss: 0.2375 - accuracy: 0.9167 - val_loss: 0.2075 - val_accuracy: 0.8883\n",
      "Epoch 45/72\n",
      "564/564 [==============================] - 0s 385us/step - loss: 0.2041 - accuracy: 0.9238 - val_loss: 0.2067 - val_accuracy: 0.8936\n",
      "Epoch 46/72\n",
      "564/564 [==============================] - 0s 374us/step - loss: 0.2304 - accuracy: 0.9184 - val_loss: 0.1990 - val_accuracy: 0.8883\n",
      "Epoch 47/72\n",
      "564/564 [==============================] - 0s 388us/step - loss: 0.2121 - accuracy: 0.9167 - val_loss: 0.1938 - val_accuracy: 0.8989\n",
      "Epoch 48/72\n",
      "564/564 [==============================] - 0s 381us/step - loss: 0.2108 - accuracy: 0.9184 - val_loss: 0.1909 - val_accuracy: 0.8989\n",
      "Epoch 49/72\n",
      "564/564 [==============================] - 0s 383us/step - loss: 0.2033 - accuracy: 0.9131 - val_loss: 0.1944 - val_accuracy: 0.8936\n",
      "Epoch 50/72\n",
      "564/564 [==============================] - 0s 369us/step - loss: 0.1772 - accuracy: 0.9238 - val_loss: 0.1972 - val_accuracy: 0.8936\n",
      "Epoch 51/72\n",
      "564/564 [==============================] - 0s 379us/step - loss: 0.1741 - accuracy: 0.9309 - val_loss: 0.1933 - val_accuracy: 0.9043\n",
      "Epoch 52/72\n",
      "564/564 [==============================] - 0s 388us/step - loss: 0.1720 - accuracy: 0.9362 - val_loss: 0.1880 - val_accuracy: 0.9043\n",
      "Epoch 53/72\n",
      "564/564 [==============================] - 0s 370us/step - loss: 0.2484 - accuracy: 0.9344 - val_loss: 0.1847 - val_accuracy: 0.9043\n",
      "Epoch 54/72\n",
      "564/564 [==============================] - 0s 370us/step - loss: 0.2467 - accuracy: 0.9202 - val_loss: 0.1864 - val_accuracy: 0.8989\n",
      "Epoch 55/72\n",
      "564/564 [==============================] - 0s 383us/step - loss: 0.2187 - accuracy: 0.9220 - val_loss: 0.1896 - val_accuracy: 0.8936\n",
      "Epoch 56/72\n",
      "564/564 [==============================] - 0s 375us/step - loss: 0.1854 - accuracy: 0.9184 - val_loss: 0.1916 - val_accuracy: 0.8936\n",
      "Epoch 57/72\n",
      "564/564 [==============================] - 0s 369us/step - loss: 0.1711 - accuracy: 0.9184 - val_loss: 0.1886 - val_accuracy: 0.8936\n",
      "Epoch 58/72\n",
      "564/564 [==============================] - 0s 377us/step - loss: 0.1603 - accuracy: 0.9291 - val_loss: 0.1953 - val_accuracy: 0.8936\n",
      "Epoch 59/72\n",
      "564/564 [==============================] - 0s 373us/step - loss: 0.1527 - accuracy: 0.9326 - val_loss: 0.1908 - val_accuracy: 0.8989\n",
      "Epoch 60/72\n",
      "564/564 [==============================] - 0s 369us/step - loss: 0.1624 - accuracy: 0.9362 - val_loss: 0.1844 - val_accuracy: 0.9043\n",
      "Epoch 61/72\n",
      "564/564 [==============================] - 0s 370us/step - loss: 0.1678 - accuracy: 0.9291 - val_loss: 0.1786 - val_accuracy: 0.9043\n",
      "Epoch 62/72\n",
      "564/564 [==============================] - 0s 385us/step - loss: 0.1653 - accuracy: 0.9362 - val_loss: 0.1735 - val_accuracy: 0.9043\n",
      "Epoch 63/72\n",
      "564/564 [==============================] - 0s 366us/step - loss: 0.1507 - accuracy: 0.9379 - val_loss: 0.1787 - val_accuracy: 0.8989\n",
      "Epoch 64/72\n",
      "564/564 [==============================] - 0s 371us/step - loss: 0.2028 - accuracy: 0.9273 - val_loss: 0.1722 - val_accuracy: 0.9043\n",
      "Epoch 65/72\n",
      "564/564 [==============================] - 0s 371us/step - loss: 0.1333 - accuracy: 0.9397 - val_loss: 0.1720 - val_accuracy: 0.9043\n",
      "Epoch 66/72\n",
      "564/564 [==============================] - 0s 375us/step - loss: 0.1624 - accuracy: 0.9362 - val_loss: 0.1762 - val_accuracy: 0.8989\n",
      "Epoch 67/72\n",
      "564/564 [==============================] - 0s 376us/step - loss: 0.1452 - accuracy: 0.9450 - val_loss: 0.1738 - val_accuracy: 0.8989\n",
      "Epoch 68/72\n",
      "564/564 [==============================] - 0s 375us/step - loss: 0.1627 - accuracy: 0.9415 - val_loss: 0.1695 - val_accuracy: 0.8989\n",
      "Epoch 69/72\n",
      "564/564 [==============================] - 0s 369us/step - loss: 0.1397 - accuracy: 0.9433 - val_loss: 0.1679 - val_accuracy: 0.8989\n",
      "Epoch 70/72\n",
      "564/564 [==============================] - 0s 373us/step - loss: 0.1413 - accuracy: 0.9379 - val_loss: 0.1597 - val_accuracy: 0.8989\n",
      "Epoch 71/72\n",
      "564/564 [==============================] - 0s 373us/step - loss: 0.1288 - accuracy: 0.9468 - val_loss: 0.1536 - val_accuracy: 0.8989\n",
      "Epoch 72/72\n",
      "564/564 [==============================] - 0s 371us/step - loss: 0.1348 - accuracy: 0.9450 - val_loss: 0.1545 - val_accuracy: 0.8989\n"
     ]
    },
    {
     "data": {
      "text/plain": [
       "<keras.callbacks.callbacks.History at 0x7f454f22e8>"
      ]
     },
     "execution_count": 13,
     "metadata": {},
     "output_type": "execute_result"
    }
   ],
   "source": [
    "model.fit(X, y, batch_size=64, epochs=72, validation_data=(val_x, val_y))"
   ]
  },
  {
   "cell_type": "markdown",
   "id": "aware-emphasis",
   "metadata": {},
   "source": [
    "----\n",
    "### Save & Load Model"
   ]
  },
  {
   "cell_type": "code",
   "execution_count": 14,
   "id": "protective-chester",
   "metadata": {},
   "outputs": [],
   "source": [
    "model.save(\"mels_2class.h5\")"
   ]
  },
  {
   "cell_type": "code",
   "execution_count": 15,
   "id": "danish-stack",
   "metadata": {},
   "outputs": [],
   "source": [
    "from keras.models import load_model\n",
    "model = load_model(\"mels_2class.h5\")"
   ]
  },
  {
   "cell_type": "markdown",
   "id": "pacific-revolution",
   "metadata": {},
   "source": [
    "----\n",
    "### Model Test"
   ]
  },
  {
   "cell_type": "code",
   "execution_count": 16,
   "id": "subtle-portrait",
   "metadata": {},
   "outputs": [
    {
     "name": "stdout",
     "output_type": "stream",
     "text": [
      "gun_shot = [0] & unknown = [1]\n",
      "\n",
      "label: unknown | prediction: [1]\n",
      "label: unknown | prediction: [1]\n",
      "label: unknown | prediction: [1]\n",
      "label: unknown | prediction: [1]\n",
      "label: unknown | prediction: [1]\n",
      "label: unknown | prediction: [1]\n",
      "label: unknown | prediction: [1]\n",
      "label: unknown | prediction: [1]\n",
      "label: unknown | prediction: [1]\n",
      "label: unknown | prediction: [1]\n",
      "label: gun_shot | prediction: [0]\n",
      "label: gun_shot | prediction: [0]\n",
      "label: gun_shot | prediction: [0]\n",
      "label: gun_shot | prediction: [0]\n",
      "label: gun_shot | prediction: [0]\n",
      "label: gun_shot | prediction: [0]\n",
      "label: gun_shot | prediction: [0]\n",
      "label: gun_shot | prediction: [0]\n",
      "label: gun_shot | prediction: [0]\n",
      "label: gun_shot | prediction: [0]\n"
     ]
    }
   ],
   "source": [
    "# not gun_shot\n",
    "cnt_t0 = 0 # gun_shot\n",
    "cnt_t1 = 0 # unknown\n",
    "\n",
    "print('gun_shot = [0] & unknown = [1]\\n')\n",
    "for i in range(752):\n",
    "    if cnt_t0 >= 10 and cnt_t1 >= 10:\n",
    "        break\n",
    "        \n",
    "    if data.label[i] != 'gun_shot':\n",
    "        if cnt_t1 >= 10:\n",
    "            continue\n",
    "            \n",
    "        cnt_t1 += 1\n",
    "        t1 = np.array([data.feature[i]])\n",
    "        pred1 = model.predict_classes(t1)\n",
    "        print('label:', data.label[i],'| prediction:', pred1)\n",
    "        \n",
    "    else:\n",
    "        if cnt_t0 >= 10:\n",
    "            continue\n",
    "            \n",
    "        cnt_t0 += 1\n",
    "        t0 = np.array([data.feature[i]])\n",
    "        pred0 = model.predict_classes(t0)\n",
    "        print('label:', data.label[i],'| prediction:', pred0)"
   ]
  },
  {
   "cell_type": "markdown",
   "id": "round-potato",
   "metadata": {},
   "source": [
    "----\n",
    "### Result\n",
    "Mel-Spectrogram\n",
    "- training accuracy: 0.9450\n",
    "- training loss: 0.1348\n",
    "- validation accuracy: 0.8989\n",
    "- validation loss: 0.1545\n",
    "\n",
    "Test with 10 Data\n",
    "- accuracy in predicting unknown: 1\n",
    "- accuracy in predicting gun_shot: 1"
   ]
  }
 ],
 "metadata": {
  "kernelspec": {
   "display_name": "Python 3",
   "language": "python",
   "name": "python3"
  },
  "language_info": {
   "codemirror_mode": {
    "name": "ipython",
    "version": 3
   },
   "file_extension": ".py",
   "mimetype": "text/x-python",
   "name": "python",
   "nbconvert_exporter": "python",
   "pygments_lexer": "ipython3",
   "version": "3.6.9"
  }
 },
 "nbformat": 4,
 "nbformat_minor": 5
}
