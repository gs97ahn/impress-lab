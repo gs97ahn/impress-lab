{
 "cells": [
  {
   "cell_type": "markdown",
   "id": "earned-cleanup",
   "metadata": {},
   "source": [
    "# Speech recording with wake word"
   ]
  },
  {
   "cell_type": "markdown",
   "id": "comparable-sector",
   "metadata": {},
   "source": [
    "In order to run this code, essential libraries must be installed first.\n",
    "- pip3 install pvrecorder\n",
    "- pip3 install pvporcupine\n",
    "- pip3 install pyaduio\n",
    "- pip3 install wave\n",
    "In addition, attain an access key from picovoice corporation."
   ]
  },
  {
   "cell_type": "markdown",
   "id": "bottom-enclosure",
   "metadata": {},
   "source": [
    "## pvporcupine"
   ]
  },
  {
   "cell_type": "markdown",
   "id": "tight-christian",
   "metadata": {},
   "source": [
    "#### Import related libraries"
   ]
  },
  {
   "cell_type": "code",
   "execution_count": 1,
   "id": "champion-blackberry",
   "metadata": {},
   "outputs": [],
   "source": [
    "import argparse\n",
    "import wave\n",
    "from pvrecorder import PvRecorder\n",
    "import pvporcupine"
   ]
  },
  {
   "cell_type": "markdown",
   "id": "correct-party",
   "metadata": {},
   "source": [
    "#### Initialization"
   ]
  },
  {
   "cell_type": "code",
   "execution_count": 2,
   "id": "complex-period",
   "metadata": {},
   "outputs": [],
   "source": [
    "porcupine_api = pvporcupine.create(access_key='access key attained from picovoice corp', keywords=['jarvis'])"
   ]
  },
  {
   "cell_type": "markdown",
   "id": "meaning-designation",
   "metadata": {},
   "source": [
    "#### pvporcupine function"
   ]
  },
  {
   "cell_type": "markdown",
   "id": "opposite-league",
   "metadata": {},
   "source": [
    "pvporcupine detects audio keyword"
   ]
  },
  {
   "cell_type": "code",
   "execution_count": 3,
   "id": "worthy-closing",
   "metadata": {},
   "outputs": [],
   "source": [
    "def pvporcupine():\n",
    "    try:\n",
    "        recorder = PvRecorder(device_index=1, frame_length=porcupine_api.frame_length)\n",
    "        recorder.start()\n",
    "        \n",
    "        print(\"[pvporcupine listening for keyword...]\")\n",
    "        \n",
    "        while True:\n",
    "            pcm = recorder.read()\n",
    "            keyword_index = porcupine_api.process(pcm)\n",
    "            if keyword_index >= 0:\n",
    "                print(\"[Keyword detected...]\")\n",
    "                return\n",
    "    except KeyboardInterrupt:\n",
    "        print(\"[pvporcupine stopping...]\")\n",
    "    finally:\n",
    "        if recorder is not None:\n",
    "            recorder.delete()\n",
    "        porcupine_api.delete()"
   ]
  },
  {
   "cell_type": "markdown",
   "id": "measured-things",
   "metadata": {},
   "source": [
    "## pyaudio"
   ]
  },
  {
   "cell_type": "markdown",
   "id": "dressed-sample",
   "metadata": {},
   "source": [
    "#### Import realted libraries"
   ]
  },
  {
   "cell_type": "code",
   "execution_count": 4,
   "id": "organized-bachelor",
   "metadata": {},
   "outputs": [],
   "source": [
    "import pyaudio\n",
    "import wave"
   ]
  },
  {
   "cell_type": "markdown",
   "id": "reflected-africa",
   "metadata": {},
   "source": [
    "#### Initialization"
   ]
  },
  {
   "cell_type": "code",
   "execution_count": 5,
   "id": "buried-barrel",
   "metadata": {},
   "outputs": [],
   "source": [
    "audio = pyaudio.PyAudio()"
   ]
  },
  {
   "cell_type": "markdown",
   "id": "numeric-movie",
   "metadata": {},
   "source": [
    "#### Listing potential input device which is connected"
   ]
  },
  {
   "cell_type": "code",
   "execution_count": 6,
   "id": "productive-present",
   "metadata": {},
   "outputs": [
    {
     "name": "stdout",
     "output_type": "stream",
     "text": [
      "0: tegra-hda: HDMI 0 (hw:0,3)\n",
      "1: tegra-snd-t210ref-mobile-rt565x: - (hw:1,0)\n",
      "2: tegra-snd-t210ref-mobile-rt565x: - (hw:1,1)\n",
      "3: tegra-snd-t210ref-mobile-rt565x: - (hw:1,2)\n",
      "4: tegra-snd-t210ref-mobile-rt565x: - (hw:1,3)\n",
      "5: tegra-snd-t210ref-mobile-rt565x: - (hw:1,4)\n",
      "6: tegra-snd-t210ref-mobile-rt565x: - (hw:1,5)\n",
      "7: tegra-snd-t210ref-mobile-rt565x: - (hw:1,6)\n",
      "8: tegra-snd-t210ref-mobile-rt565x: - (hw:1,7)\n",
      "9: tegra-snd-t210ref-mobile-rt565x: - (hw:1,8)\n",
      "10: tegra-snd-t210ref-mobile-rt565x: - (hw:1,9)\n",
      "11: USB Audio Device: - (hw:2,0)\n"
     ]
    }
   ],
   "source": [
    "for index in range(audio.get_device_count()):\n",
    "    desc = audio.get_device_info_by_index(index)\n",
    "    print(\"{index}: {device}\".format(index=index, device=desc[\"name\"]))"
   ]
  },
  {
   "cell_type": "markdown",
   "id": "characteristic-timeline",
   "metadata": {},
   "source": [
    "#### pyaudio option values"
   ]
  },
  {
   "cell_type": "code",
   "execution_count": 7,
   "id": "considered-innocent",
   "metadata": {},
   "outputs": [],
   "source": [
    "FORMAT = pyaudio.paInt16\n",
    "CHANNELS = 1\n",
    "RATE = 44100\n",
    "INPUT_DEVICE_INDEX = 11\n",
    "CHUNK = 4096\n",
    "RECORD_SECONDS = 5\n",
    "WAVE_OUTPUT_FILENAME = \"recording.wav\""
   ]
  },
  {
   "cell_type": "markdown",
   "id": "authentic-forward",
   "metadata": {},
   "source": [
    "#### pyaudio function"
   ]
  },
  {
   "cell_type": "code",
   "execution_count": 8,
   "id": "efficient-allah",
   "metadata": {},
   "outputs": [],
   "source": [
    "def pyaudio():\n",
    "    stream = audio.open(format=FORMAT, channels=CHANNELS, rate=RATE, input=True, input_device_index=INPUT_DEVICE_INDEX, frames_per_buffer=CHUNK)\n",
    "    frames = []\n",
    "    \n",
    "    print(\"[pyaudio recording started...]\")\n",
    "    for i in range(0, int(RATE / CHUNK * RECORD_SECONDS)):\n",
    "        data = stream.read(CHUNK)\n",
    "        frames.append(data)\n",
    "    print(\"[pyaudio reocrding finished...]\")\n",
    "    \n",
    "    stream.stop_stream()\n",
    "    stream.close()\n",
    "    audio.terminate()\n",
    "    \n",
    "    wf = wave.open(WAVE_OUTPUT_FILENAME, \"wb\")\n",
    "    wf.setnchannels(CHANNELS)\n",
    "    wf.setsampwidth(audio.get_sample_size(FORMAT))\n",
    "    wf.setframerate(RATE)\n",
    "    wf.writeframes(b''.join(frames))\n",
    "    wf.close()\n",
    "    return"
   ]
  },
  {
   "cell_type": "markdown",
   "id": "blank-syntax",
   "metadata": {},
   "source": [
    "### Main function"
   ]
  },
  {
   "cell_type": "markdown",
   "id": "expensive-reference",
   "metadata": {},
   "source": [
    "When keyword(in this case \"jarvis\") is detected from pvporcupine, pyaudio will be start recording the input voice for 5 seconds and save the recorded file to the current repository as \"reocrding.wave\"."
   ]
  },
  {
   "cell_type": "code",
   "execution_count": 9,
   "id": "varying-ghana",
   "metadata": {},
   "outputs": [
    {
     "name": "stdout",
     "output_type": "stream",
     "text": [
      "[pvporcupine listening for keyword...]\n",
      "[Keyword detected...]\n",
      "[pyaudio recording started...]\n",
      "[pyaudio reocrding finished...]\n"
     ]
    }
   ],
   "source": [
    "pvporcupine()\n",
    "pyaudio()"
   ]
  }
 ],
 "metadata": {
  "kernelspec": {
   "display_name": "Python 3",
   "language": "python",
   "name": "python3"
  },
  "language_info": {
   "codemirror_mode": {
    "name": "ipython",
    "version": 3
   },
   "file_extension": ".py",
   "mimetype": "text/x-python",
   "name": "python",
   "nbconvert_exporter": "python",
   "pygments_lexer": "ipython3",
   "version": "3.6.9"
  }
 },
 "nbformat": 4,
 "nbformat_minor": 5
}
