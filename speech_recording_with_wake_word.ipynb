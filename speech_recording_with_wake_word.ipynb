{
 "cells": [
  {
   "cell_type": "markdown",
   "id": "electrical-relaxation",
   "metadata": {},
   "source": [
    "# Speech Recording with Wake Word\n",
    "This uses pvporcupine to detect wake word and record voice for certain amount of time. This code is runnable if you have the necessary libraries installed with python 3, including on Jetson Nano 2GB.\n",
    "\n",
    "\n",
    "\n",
    "To run this code you will nedd to install these libraries:\n",
    "- pvrecorder\n",
    "- pvporcupine\n",
    "- pyaudio\n",
    "\n",
    "To run this code you will need to fix these global variables:\n",
    "- INPUT_DEVICE_INDEX\n",
    "- RECORD_SECONDS\n",
    "\n",
    "In addition, you must attain an access key from picovice corporation."
   ]
  },
  {
   "cell_type": "markdown",
   "id": "cheap-trash",
   "metadata": {},
   "source": [
    "#### Import related libraries"
   ]
  },
  {
   "cell_type": "code",
   "execution_count": 1,
   "id": "ranking-lunch",
   "metadata": {},
   "outputs": [],
   "source": [
    "import argparse\n",
    "import wave\n",
    "from pvrecorder import PvRecorder\n",
    "import pvporcupine\n",
    "import pyaudio"
   ]
  },
  {
   "cell_type": "markdown",
   "id": "dominican-harvard",
   "metadata": {},
   "source": [
    "#### Declare global variable"
   ]
  },
  {
   "cell_type": "code",
   "execution_count": 2,
   "id": "collectible-weekend",
   "metadata": {},
   "outputs": [],
   "source": [
    "FORMAT = pyaudio.paInt16\n",
    "CHANNELS = 1\n",
    "RATE = 44100\n",
    "INPUT_DEVICE_INDEX = 11\n",
    "CHUNK = 4096\n",
    "RECORD_SECONDS = 5\n",
    "WAVE_OUTPUT_FILENAME = \"recording.wav\"\n",
    "ACCESS_KEY = 'access_key_attained_from_picovoice_corp'\n",
    "KEYWORDS = ['jarvis']"
   ]
  },
  {
   "cell_type": "markdown",
   "id": "forced-timber",
   "metadata": {},
   "source": [
    "## pvporcupine"
   ]
  },
  {
   "cell_type": "markdown",
   "id": "another-shoot",
   "metadata": {},
   "source": [
    "#### Initialization"
   ]
  },
  {
   "cell_type": "code",
   "execution_count": 3,
   "id": "starting-prerequisite",
   "metadata": {},
   "outputs": [],
   "source": [
    "porcupine_api = pvporcupine.create(access_key=ACCESS_KEY, keywords=KEYWORDS)"
   ]
  },
  {
   "cell_type": "markdown",
   "id": "brown-roads",
   "metadata": {},
   "source": [
    "#### pvporcupine()\n",
    "pvporcupine detects a specific audio keyword, which in this case is 'jarvis'"
   ]
  },
  {
   "cell_type": "code",
   "execution_count": 4,
   "id": "twelve-heritage",
   "metadata": {},
   "outputs": [],
   "source": [
    "def pvporcupine():\n",
    "    try:\n",
    "        recorder = PvRecorder(device_index=1, frame_length=porcupine_api.frame_length)\n",
    "        recorder.start()\n",
    "        \n",
    "        print(\"[pvporcupine listening for keyword...]\")\n",
    "        \n",
    "        while True:\n",
    "            pcm = recorder.read()\n",
    "            keyword_index = porcupine_api.process(pcm)\n",
    "            if keyword_index >= 0:\n",
    "                print(\"[Keyword detected...]\")\n",
    "                return\n",
    "    except KeyboardInterrupt:\n",
    "        print(\"[pvporcupine stopping...]\")\n",
    "    finally:\n",
    "        if recorder is not None:\n",
    "            recorder.delete()\n",
    "        porcupine_api.delete()"
   ]
  },
  {
   "cell_type": "markdown",
   "id": "interpreted-finnish",
   "metadata": {},
   "source": [
    "## pyaudio"
   ]
  },
  {
   "cell_type": "markdown",
   "id": "regional-investigator",
   "metadata": {},
   "source": [
    "#### Initialization"
   ]
  },
  {
   "cell_type": "code",
   "execution_count": 5,
   "id": "soviet-router",
   "metadata": {},
   "outputs": [],
   "source": [
    "audio = pyaudio.PyAudio()"
   ]
  },
  {
   "cell_type": "markdown",
   "id": "selected-browser",
   "metadata": {},
   "source": [
    "#### List potential input device"
   ]
  },
  {
   "cell_type": "code",
   "execution_count": 6,
   "id": "allied-legislation",
   "metadata": {},
   "outputs": [
    {
     "name": "stdout",
     "output_type": "stream",
     "text": [
      "0: tegra-hda: HDMI 0 (hw:0,3)\n",
      "1: tegra-snd-t210ref-mobile-rt565x: - (hw:1,0)\n",
      "2: tegra-snd-t210ref-mobile-rt565x: - (hw:1,1)\n",
      "3: tegra-snd-t210ref-mobile-rt565x: - (hw:1,2)\n",
      "4: tegra-snd-t210ref-mobile-rt565x: - (hw:1,3)\n",
      "5: tegra-snd-t210ref-mobile-rt565x: - (hw:1,4)\n",
      "6: tegra-snd-t210ref-mobile-rt565x: - (hw:1,5)\n",
      "7: tegra-snd-t210ref-mobile-rt565x: - (hw:1,6)\n",
      "8: tegra-snd-t210ref-mobile-rt565x: - (hw:1,7)\n",
      "9: tegra-snd-t210ref-mobile-rt565x: - (hw:1,8)\n",
      "10: tegra-snd-t210ref-mobile-rt565x: - (hw:1,9)\n",
      "11: USB Audio Device: - (hw:2,0)\n"
     ]
    }
   ],
   "source": [
    "for index in range(audio.get_device_count()):\n",
    "    desc = audio.get_device_info_by_index(index)\n",
    "    print(\"{index}: {device}\".format(index=index, device=desc[\"name\"]))"
   ]
  },
  {
   "cell_type": "markdown",
   "id": "regulated-adolescent",
   "metadata": {},
   "source": [
    "#### pyaudio()\n",
    "record any kind of audio for a declared time"
   ]
  },
  {
   "cell_type": "code",
   "execution_count": 7,
   "id": "ranging-aquarium",
   "metadata": {},
   "outputs": [],
   "source": [
    "def pyaudio():\n",
    "    stream = audio.open(format=FORMAT, channels=CHANNELS, rate=RATE, input=True, input_device_index=INPUT_DEVICE_INDEX, frames_per_buffer=CHUNK)\n",
    "    frames = []\n",
    "    \n",
    "    print(\"[pyaudio recording started...]\")\n",
    "    for i in range(0, int(RATE / CHUNK * RECORD_SECONDS)):\n",
    "        data = stream.read(CHUNK)\n",
    "        frames.append(data)\n",
    "    print(\"[pyaudio reocrding finished...]\")\n",
    "    \n",
    "    stream.stop_stream()\n",
    "    stream.close()\n",
    "    audio.terminate()\n",
    "    \n",
    "    wf = wave.open(WAVE_OUTPUT_FILENAME, \"wb\")\n",
    "    wf.setnchannels(CHANNELS)\n",
    "    wf.setsampwidth(audio.get_sample_size(FORMAT))\n",
    "    wf.setframerate(RATE)\n",
    "    wf.writeframes(b''.join(frames))\n",
    "    wf.close()\n",
    "    return"
   ]
  },
  {
   "cell_type": "markdown",
   "id": "perceived-arrow",
   "metadata": {},
   "source": [
    "### Initialize speech recording with wake word\n",
    "When keyword(in this case \"jarvis\") is detected from pvporcupine, pyaudio will be start recording the input voice for 5 seconds and save the recorded file to the current repository as \"reocrding.wave\""
   ]
  },
  {
   "cell_type": "code",
   "execution_count": 8,
   "id": "median-boston",
   "metadata": {},
   "outputs": [
    {
     "name": "stdout",
     "output_type": "stream",
     "text": [
      "[pvporcupine listening for keyword...]\n",
      "[Keyword detected...]\n",
      "[pyaudio recording started...]\n",
      "[pyaudio reocrding finished...]\n"
     ]
    }
   ],
   "source": [
    "pvporcupine()\n",
    "pyaudio()"
   ]
  }
 ],
 "metadata": {
  "kernelspec": {
   "display_name": "Python 3",
   "language": "python",
   "name": "python3"
  },
  "language_info": {
   "codemirror_mode": {
    "name": "ipython",
    "version": 3
   },
   "file_extension": ".py",
   "mimetype": "text/x-python",
   "name": "python",
   "nbconvert_exporter": "python",
   "pygments_lexer": "ipython3",
   "version": "3.6.9"
  }
 },
 "nbformat": 4,
 "nbformat_minor": 5
}
