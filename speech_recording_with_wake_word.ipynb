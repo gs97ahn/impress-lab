{
 "cells": [
  {
   "cell_type": "markdown",
   "id": "written-colonial",
   "metadata": {},
   "source": [
    "# Speech Recording with Wake Word\n",
    "This uses pvporcupine to detect wake word and record voice for certain amount of time. This code is runnable if you have the necessary libraries installed with python 3, including on Jetson Nano 2GB.\n",
    "\n",
    "\n",
    "\n",
    "To run this code you will nedd to install these libraries:\n",
    "- pvrecorder\n",
    "- pvporcupine\n",
    "- pyaudio\n",
    "\n",
    "To run this code you will need to fix these global variables:\n",
    "- INPUT_DEVICE_INDEX\n",
    "- RECORD_SECONDS\n",
    "\n",
    "In addition, you must attain an access key from picovice corporation."
   ]
  },
  {
   "cell_type": "markdown",
   "id": "recognized-category",
   "metadata": {},
   "source": [
    "#### Import related libraries"
   ]
  },
  {
   "cell_type": "code",
   "execution_count": 9,
   "id": "hybrid-rebate",
   "metadata": {},
   "outputs": [],
   "source": [
    "import argparse\n",
    "import wave\n",
    "from pvrecorder import PvRecorder\n",
    "import pvporcupine\n",
    "import pyaudio"
   ]
  },
  {
   "cell_type": "markdown",
   "id": "genetic-evans",
   "metadata": {},
   "source": [
    "#### Declare global variable"
   ]
  },
  {
   "cell_type": "code",
   "execution_count": 10,
   "id": "accessory-interface",
   "metadata": {},
   "outputs": [],
   "source": [
    "FORMAT = pyaudio.paInt16\n",
    "CHANNELS = 1\n",
    "RATE = 44100\n",
    "INPUT_DEVICE_INDEX = 11\n",
    "CHUNK = 4096\n",
    "RECORD_SECONDS = 5\n",
    "WAVE_OUTPUT_FILENAME = \"recording.wav\"\n",
    "ACCESS_KEY = 'qPIhe5QzrvC/jHP/d9mCIAQEincvBldhIKJ6JN+wraP2AChpmoh/7Q==' #'access_key_attained_from_picovoice_corp'\n",
    "KEYWORDS = ['jarvis']"
   ]
  },
  {
   "cell_type": "markdown",
   "id": "working-annex",
   "metadata": {},
   "source": [
    "## pvporcupine"
   ]
  },
  {
   "cell_type": "markdown",
   "id": "crude-greene",
   "metadata": {},
   "source": [
    "#### Initialization"
   ]
  },
  {
   "cell_type": "code",
   "execution_count": 11,
   "id": "subtle-finance",
   "metadata": {},
   "outputs": [],
   "source": [
    "porcupine_api = pvporcupine.create(access_key=ACCESS_KEY, keywords=KEYWORDS)"
   ]
  },
  {
   "cell_type": "markdown",
   "id": "muslim-gazette",
   "metadata": {},
   "source": [
    "#### pvporcupine()\n",
    "pvporcupine detects a specific audio keyword, which in this case is 'jarvis'"
   ]
  },
  {
   "cell_type": "code",
   "execution_count": 12,
   "id": "continuing-manitoba",
   "metadata": {},
   "outputs": [],
   "source": [
    "def pvporcupine():\n",
    "    try:\n",
    "        recorder = PvRecorder(device_index=1, frame_length=porcupine_api.frame_length)\n",
    "        recorder.start()\n",
    "        \n",
    "        print(\"[pvporcupine listening for keyword...]\")\n",
    "        \n",
    "        while True:\n",
    "            pcm = recorder.read()\n",
    "            keyword_index = porcupine_api.process(pcm)\n",
    "            if keyword_index >= 0:\n",
    "                print(\"[Keyword detected...]\")\n",
    "                return\n",
    "    except KeyboardInterrupt:\n",
    "        print(\"[pvporcupine stopping...]\")\n",
    "    finally:\n",
    "        if recorder is not None:\n",
    "            recorder.delete()\n",
    "        porcupine_api.delete()"
   ]
  },
  {
   "cell_type": "markdown",
   "id": "offensive-archives",
   "metadata": {},
   "source": [
    "## pyaudio"
   ]
  },
  {
   "cell_type": "markdown",
   "id": "adolescent-doubt",
   "metadata": {},
   "source": [
    "#### Initialization"
   ]
  },
  {
   "cell_type": "code",
   "execution_count": 21,
   "id": "italic-welding",
   "metadata": {},
   "outputs": [],
   "source": [
    "audio = pyaudio.PyAudio()"
   ]
  },
  {
   "cell_type": "markdown",
   "id": "resident-saver",
   "metadata": {},
   "source": [
    "#### List potential input device"
   ]
  },
  {
   "cell_type": "code",
   "execution_count": 22,
   "id": "fifty-bible",
   "metadata": {},
   "outputs": [
    {
     "name": "stdout",
     "output_type": "stream",
     "text": [
      "0: tegra-snd-t210ref-mobile-rt565x: - (hw:1,0)\n",
      "1: tegra-snd-t210ref-mobile-rt565x: - (hw:1,1)\n",
      "2: tegra-snd-t210ref-mobile-rt565x: - (hw:1,2)\n",
      "3: tegra-snd-t210ref-mobile-rt565x: - (hw:1,3)\n",
      "4: tegra-snd-t210ref-mobile-rt565x: - (hw:1,4)\n",
      "5: tegra-snd-t210ref-mobile-rt565x: - (hw:1,5)\n",
      "6: tegra-snd-t210ref-mobile-rt565x: - (hw:1,6)\n",
      "7: tegra-snd-t210ref-mobile-rt565x: - (hw:1,7)\n",
      "8: tegra-snd-t210ref-mobile-rt565x: - (hw:1,8)\n",
      "9: tegra-snd-t210ref-mobile-rt565x: - (hw:1,9)\n"
     ]
    }
   ],
   "source": [
    "for index in range(audio.get_device_count()):\n",
    "    desc = audio.get_device_info_by_index(index)\n",
    "    print(\"{index}: {device}\".format(index=index, device=desc[\"name\"]))"
   ]
  },
  {
   "cell_type": "markdown",
   "id": "suffering-league",
   "metadata": {},
   "source": [
    "#### pyaudio()\n",
    "record any kind of audio for a declared time"
   ]
  },
  {
   "cell_type": "code",
   "execution_count": 7,
   "id": "soviet-wales",
   "metadata": {},
   "outputs": [],
   "source": [
    "def pyaudio():\n",
    "    stream = audio.open(format=FORMAT, channels=CHANNELS, rate=RATE, input=True, input_device_index=INPUT_DEVICE_INDEX, frames_per_buffer=CHUNK)\n",
    "    frames = []\n",
    "    \n",
    "    print(\"[pyaudio recording started...]\")\n",
    "    for i in range(0, int(RATE / CHUNK * RECORD_SECONDS)):\n",
    "        data = stream.read(CHUNK)\n",
    "        frames.append(data)\n",
    "    print(\"[pyaudio reocrding finished...]\")\n",
    "    \n",
    "    stream.stop_stream()\n",
    "    stream.close()\n",
    "    audio.terminate()\n",
    "    \n",
    "    wf = wave.open(WAVE_OUTPUT_FILENAME, \"wb\")\n",
    "    wf.setnchannels(CHANNELS)\n",
    "    wf.setsampwidth(audio.get_sample_size(FORMAT))\n",
    "    wf.setframerate(RATE)\n",
    "    wf.writeframes(b''.join(frames))\n",
    "    wf.close()\n",
    "    return"
   ]
  },
  {
   "cell_type": "markdown",
   "id": "reliable-dimension",
   "metadata": {},
   "source": [
    "### Initialize speech recording with wake word\n",
    "When keyword(in this case \"jarvis\") is detected from pvporcupine, pyaudio will be start recording the input voice for 5 seconds and save the recorded file to the current repository as \"reocrding.wave\""
   ]
  },
  {
   "cell_type": "code",
   "execution_count": 8,
   "id": "deadly-barrel",
   "metadata": {},
   "outputs": [
    {
     "ename": "UnboundLocalError",
     "evalue": "local variable 'recorder' referenced before assignment",
     "output_type": "error",
     "traceback": [
      "\u001b[0;31m\u001b[0m",
      "\u001b[0;31mRuntimeError\u001b[0mTraceback (most recent call last)",
      "\u001b[0;32m<ipython-input-4-97d0b7d47026>\u001b[0m in \u001b[0;36mpvporcupine\u001b[0;34m()\u001b[0m\n\u001b[1;32m      2\u001b[0m     \u001b[0;32mtry\u001b[0m\u001b[0;34m:\u001b[0m\u001b[0;34m\u001b[0m\u001b[0;34m\u001b[0m\u001b[0m\n\u001b[0;32m----> 3\u001b[0;31m         \u001b[0mrecorder\u001b[0m \u001b[0;34m=\u001b[0m \u001b[0mPvRecorder\u001b[0m\u001b[0;34m(\u001b[0m\u001b[0mdevice_index\u001b[0m\u001b[0;34m=\u001b[0m\u001b[0;36m1\u001b[0m\u001b[0;34m,\u001b[0m \u001b[0mframe_length\u001b[0m\u001b[0;34m=\u001b[0m\u001b[0mporcupine_api\u001b[0m\u001b[0;34m.\u001b[0m\u001b[0mframe_length\u001b[0m\u001b[0;34m)\u001b[0m\u001b[0;34m\u001b[0m\u001b[0;34m\u001b[0m\u001b[0m\n\u001b[0m\u001b[1;32m      4\u001b[0m         \u001b[0mrecorder\u001b[0m\u001b[0;34m.\u001b[0m\u001b[0mstart\u001b[0m\u001b[0;34m(\u001b[0m\u001b[0;34m)\u001b[0m\u001b[0;34m\u001b[0m\u001b[0;34m\u001b[0m\u001b[0m\n",
      "\u001b[0;32m/usr/local/lib/python3.6/dist-packages/pvrecorder/pvrecorder.py\u001b[0m in \u001b[0;36m__init__\u001b[0;34m(self, device_index, frame_length, buffer_size_msec, log_overflow)\u001b[0m\n\u001b[1;32m     77\u001b[0m         \u001b[0;32mif\u001b[0m \u001b[0mstatus\u001b[0m \u001b[0;32mis\u001b[0m \u001b[0;32mnot\u001b[0m \u001b[0mself\u001b[0m\u001b[0;34m.\u001b[0m\u001b[0mPvRecorderStatuses\u001b[0m\u001b[0;34m.\u001b[0m\u001b[0mSUCCESS\u001b[0m\u001b[0;34m:\u001b[0m\u001b[0;34m\u001b[0m\u001b[0;34m\u001b[0m\u001b[0m\n\u001b[0;32m---> 78\u001b[0;31m             \u001b[0;32mraise\u001b[0m \u001b[0mself\u001b[0m\u001b[0;34m.\u001b[0m\u001b[0m_PVRECORDER_STATUS_TO_EXCEPTION\u001b[0m\u001b[0;34m[\u001b[0m\u001b[0mstatus\u001b[0m\u001b[0;34m]\u001b[0m\u001b[0;34m(\u001b[0m\u001b[0;34m\"Failed to initialize pv_recorder.\"\u001b[0m\u001b[0;34m)\u001b[0m\u001b[0;34m\u001b[0m\u001b[0;34m\u001b[0m\u001b[0m\n\u001b[0m\u001b[1;32m     79\u001b[0m \u001b[0;34m\u001b[0m\u001b[0m\n",
      "\u001b[0;31mRuntimeError\u001b[0m: Failed to initialize pv_recorder.",
      "\nDuring handling of the above exception, another exception occurred:\n",
      "\u001b[0;31mUnboundLocalError\u001b[0mTraceback (most recent call last)",
      "\u001b[0;32m<ipython-input-8-d20f5cd83b03>\u001b[0m in \u001b[0;36m<module>\u001b[0;34m\u001b[0m\n\u001b[0;32m----> 1\u001b[0;31m \u001b[0mpvporcupine\u001b[0m\u001b[0;34m(\u001b[0m\u001b[0;34m)\u001b[0m\u001b[0;34m\u001b[0m\u001b[0;34m\u001b[0m\u001b[0m\n\u001b[0m\u001b[1;32m      2\u001b[0m \u001b[0mpyaudio\u001b[0m\u001b[0;34m(\u001b[0m\u001b[0;34m)\u001b[0m\u001b[0;34m\u001b[0m\u001b[0;34m\u001b[0m\u001b[0m\n",
      "\u001b[0;32m<ipython-input-4-97d0b7d47026>\u001b[0m in \u001b[0;36mpvporcupine\u001b[0;34m()\u001b[0m\n\u001b[1;32m     15\u001b[0m         \u001b[0mprint\u001b[0m\u001b[0;34m(\u001b[0m\u001b[0;34m\"[pvporcupine stopping...]\"\u001b[0m\u001b[0;34m)\u001b[0m\u001b[0;34m\u001b[0m\u001b[0;34m\u001b[0m\u001b[0m\n\u001b[1;32m     16\u001b[0m     \u001b[0;32mfinally\u001b[0m\u001b[0;34m:\u001b[0m\u001b[0;34m\u001b[0m\u001b[0;34m\u001b[0m\u001b[0m\n\u001b[0;32m---> 17\u001b[0;31m         \u001b[0;32mif\u001b[0m \u001b[0mrecorder\u001b[0m \u001b[0;32mis\u001b[0m \u001b[0;32mnot\u001b[0m \u001b[0;32mNone\u001b[0m\u001b[0;34m:\u001b[0m\u001b[0;34m\u001b[0m\u001b[0;34m\u001b[0m\u001b[0m\n\u001b[0m\u001b[1;32m     18\u001b[0m             \u001b[0mrecorder\u001b[0m\u001b[0;34m.\u001b[0m\u001b[0mdelete\u001b[0m\u001b[0;34m(\u001b[0m\u001b[0;34m)\u001b[0m\u001b[0;34m\u001b[0m\u001b[0;34m\u001b[0m\u001b[0m\n\u001b[1;32m     19\u001b[0m         \u001b[0mporcupine_api\u001b[0m\u001b[0;34m.\u001b[0m\u001b[0mdelete\u001b[0m\u001b[0;34m(\u001b[0m\u001b[0;34m)\u001b[0m\u001b[0;34m\u001b[0m\u001b[0;34m\u001b[0m\u001b[0m\n",
      "\u001b[0;31mUnboundLocalError\u001b[0m: local variable 'recorder' referenced before assignment"
     ]
    }
   ],
   "source": [
    "pvporcupine()\n",
    "pyaudio()"
   ]
  }
 ],
 "metadata": {
  "kernelspec": {
   "display_name": "Python 3",
   "language": "python",
   "name": "python3"
  },
  "language_info": {
   "codemirror_mode": {
    "name": "ipython",
    "version": 3
   },
   "file_extension": ".py",
   "mimetype": "text/x-python",
   "name": "python",
   "nbconvert_exporter": "python",
   "pygments_lexer": "ipython3",
   "version": "3.6.9"
  }
 },
 "nbformat": 4,
 "nbformat_minor": 5
}
